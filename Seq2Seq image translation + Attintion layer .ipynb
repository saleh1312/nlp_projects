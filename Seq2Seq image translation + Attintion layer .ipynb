{
  "nbformat": 4,
  "nbformat_minor": 5,
  "metadata": {
    "kernelspec": {
      "display_name": "Python 3 (ipykernel)",
      "language": "python",
      "name": "python3"
    },
    "language_info": {
      "codemirror_mode": {
        "name": "ipython",
        "version": 3
      },
      "file_extension": ".py",
      "mimetype": "text/x-python",
      "name": "python",
      "nbconvert_exporter": "python",
      "pygments_lexer": "ipython3",
      "version": "3.7.11"
    },
    "colab": {
      "name": "Untitled4.ipynb",
      "provenance": [],
      "collapsed_sections": [],
      "include_colab_link": true
    },
    "accelerator": "GPU"
  },
  "cells": [
    {
      "cell_type": "markdown",
      "metadata": {
        "id": "view-in-github",
        "colab_type": "text"
      },
      "source": [
        "<a href=\"https://colab.research.google.com/github/saleh1312/nlp_projects/blob/main/Seq2Seq%20image%20translation%20%2B%20Attintion%20layer%20.ipynb\" target=\"_parent\"><img src=\"https://colab.research.google.com/assets/colab-badge.svg\" alt=\"Open In Colab\"/></a>"
      ]
    },
    {
      "cell_type": "code",
      "metadata": {
        "colab": {
          "base_uri": "https://localhost:8080/"
        },
        "id": "VzGidjniX7BJ",
        "outputId": "07466513-0e57-41b5-feeb-ca57a4e1fbf6"
      },
      "source": [
        "from google.colab import drive\n",
        "drive.mount('/content/drive')"
      ],
      "id": "VzGidjniX7BJ",
      "execution_count": null,
      "outputs": [
        {
          "output_type": "stream",
          "name": "stdout",
          "text": [
            "Mounted at /content/drive\n"
          ]
        }
      ]
    },
    {
      "cell_type": "code",
      "metadata": {
        "id": "cbfbdb03",
        "colab": {
          "base_uri": "https://localhost:8080/"
        },
        "outputId": "e9265a8c-05bb-476a-940f-2d9cea29f5c2"
      },
      "source": [
        "import numpy\n",
        "import string\n",
        "import nltk\n",
        "import numpy as np\n",
        "from nltk.tokenize import sent_tokenize, word_tokenize\n",
        "import spacy\n",
        "import tensorflow as tf\n",
        "nltk.download('all')"
      ],
      "id": "cbfbdb03",
      "execution_count": 1,
      "outputs": [
        {
          "output_type": "stream",
          "name": "stdout",
          "text": [
            "[nltk_data] Downloading collection 'all'\n",
            "[nltk_data]    | \n",
            "[nltk_data]    | Downloading package abc to /root/nltk_data...\n",
            "[nltk_data]    |   Package abc is already up-to-date!\n",
            "[nltk_data]    | Downloading package alpino to /root/nltk_data...\n",
            "[nltk_data]    |   Package alpino is already up-to-date!\n",
            "[nltk_data]    | Downloading package biocreative_ppi to\n",
            "[nltk_data]    |     /root/nltk_data...\n",
            "[nltk_data]    |   Package biocreative_ppi is already up-to-date!\n",
            "[nltk_data]    | Downloading package brown to /root/nltk_data...\n",
            "[nltk_data]    |   Package brown is already up-to-date!\n",
            "[nltk_data]    | Downloading package brown_tei to /root/nltk_data...\n",
            "[nltk_data]    |   Package brown_tei is already up-to-date!\n",
            "[nltk_data]    | Downloading package cess_cat to /root/nltk_data...\n",
            "[nltk_data]    |   Package cess_cat is already up-to-date!\n",
            "[nltk_data]    | Downloading package cess_esp to /root/nltk_data...\n",
            "[nltk_data]    |   Package cess_esp is already up-to-date!\n",
            "[nltk_data]    | Downloading package chat80 to /root/nltk_data...\n",
            "[nltk_data]    |   Package chat80 is already up-to-date!\n",
            "[nltk_data]    | Downloading package city_database to\n",
            "[nltk_data]    |     /root/nltk_data...\n",
            "[nltk_data]    |   Package city_database is already up-to-date!\n",
            "[nltk_data]    | Downloading package cmudict to /root/nltk_data...\n",
            "[nltk_data]    |   Package cmudict is already up-to-date!\n",
            "[nltk_data]    | Downloading package comparative_sentences to\n",
            "[nltk_data]    |     /root/nltk_data...\n",
            "[nltk_data]    |   Package comparative_sentences is already up-to-\n",
            "[nltk_data]    |       date!\n",
            "[nltk_data]    | Downloading package comtrans to /root/nltk_data...\n",
            "[nltk_data]    |   Package comtrans is already up-to-date!\n",
            "[nltk_data]    | Downloading package conll2000 to /root/nltk_data...\n",
            "[nltk_data]    |   Package conll2000 is already up-to-date!\n",
            "[nltk_data]    | Downloading package conll2002 to /root/nltk_data...\n",
            "[nltk_data]    |   Package conll2002 is already up-to-date!\n",
            "[nltk_data]    | Downloading package conll2007 to /root/nltk_data...\n",
            "[nltk_data]    |   Package conll2007 is already up-to-date!\n",
            "[nltk_data]    | Downloading package crubadan to /root/nltk_data...\n",
            "[nltk_data]    |   Package crubadan is already up-to-date!\n",
            "[nltk_data]    | Downloading package dependency_treebank to\n",
            "[nltk_data]    |     /root/nltk_data...\n",
            "[nltk_data]    |   Package dependency_treebank is already up-to-date!\n",
            "[nltk_data]    | Downloading package dolch to /root/nltk_data...\n",
            "[nltk_data]    |   Package dolch is already up-to-date!\n",
            "[nltk_data]    | Downloading package europarl_raw to\n",
            "[nltk_data]    |     /root/nltk_data...\n",
            "[nltk_data]    |   Package europarl_raw is already up-to-date!\n",
            "[nltk_data]    | Downloading package floresta to /root/nltk_data...\n",
            "[nltk_data]    |   Package floresta is already up-to-date!\n",
            "[nltk_data]    | Downloading package framenet_v15 to\n",
            "[nltk_data]    |     /root/nltk_data...\n",
            "[nltk_data]    |   Package framenet_v15 is already up-to-date!\n",
            "[nltk_data]    | Downloading package framenet_v17 to\n",
            "[nltk_data]    |     /root/nltk_data...\n",
            "[nltk_data]    |   Package framenet_v17 is already up-to-date!\n",
            "[nltk_data]    | Downloading package gazetteers to /root/nltk_data...\n",
            "[nltk_data]    |   Package gazetteers is already up-to-date!\n",
            "[nltk_data]    | Downloading package genesis to /root/nltk_data...\n",
            "[nltk_data]    |   Package genesis is already up-to-date!\n",
            "[nltk_data]    | Downloading package gutenberg to /root/nltk_data...\n",
            "[nltk_data]    |   Package gutenberg is already up-to-date!\n",
            "[nltk_data]    | Downloading package ieer to /root/nltk_data...\n",
            "[nltk_data]    |   Package ieer is already up-to-date!\n",
            "[nltk_data]    | Downloading package inaugural to /root/nltk_data...\n",
            "[nltk_data]    |   Package inaugural is already up-to-date!\n",
            "[nltk_data]    | Downloading package indian to /root/nltk_data...\n",
            "[nltk_data]    |   Package indian is already up-to-date!\n",
            "[nltk_data]    | Downloading package jeita to /root/nltk_data...\n",
            "[nltk_data]    |   Package jeita is already up-to-date!\n",
            "[nltk_data]    | Downloading package kimmo to /root/nltk_data...\n",
            "[nltk_data]    |   Package kimmo is already up-to-date!\n",
            "[nltk_data]    | Downloading package knbc to /root/nltk_data...\n",
            "[nltk_data]    |   Package knbc is already up-to-date!\n",
            "[nltk_data]    | Downloading package lin_thesaurus to\n",
            "[nltk_data]    |     /root/nltk_data...\n",
            "[nltk_data]    |   Package lin_thesaurus is already up-to-date!\n",
            "[nltk_data]    | Downloading package mac_morpho to /root/nltk_data...\n",
            "[nltk_data]    |   Package mac_morpho is already up-to-date!\n",
            "[nltk_data]    | Downloading package machado to /root/nltk_data...\n",
            "[nltk_data]    |   Package machado is already up-to-date!\n",
            "[nltk_data]    | Downloading package masc_tagged to /root/nltk_data...\n",
            "[nltk_data]    |   Package masc_tagged is already up-to-date!\n",
            "[nltk_data]    | Downloading package moses_sample to\n",
            "[nltk_data]    |     /root/nltk_data...\n",
            "[nltk_data]    |   Package moses_sample is already up-to-date!\n",
            "[nltk_data]    | Downloading package movie_reviews to\n",
            "[nltk_data]    |     /root/nltk_data...\n",
            "[nltk_data]    |   Package movie_reviews is already up-to-date!\n",
            "[nltk_data]    | Downloading package names to /root/nltk_data...\n",
            "[nltk_data]    |   Package names is already up-to-date!\n",
            "[nltk_data]    | Downloading package nombank.1.0 to /root/nltk_data...\n",
            "[nltk_data]    |   Package nombank.1.0 is already up-to-date!\n",
            "[nltk_data]    | Downloading package nps_chat to /root/nltk_data...\n",
            "[nltk_data]    |   Package nps_chat is already up-to-date!\n",
            "[nltk_data]    | Downloading package omw to /root/nltk_data...\n",
            "[nltk_data]    |   Package omw is already up-to-date!\n",
            "[nltk_data]    | Downloading package opinion_lexicon to\n",
            "[nltk_data]    |     /root/nltk_data...\n",
            "[nltk_data]    |   Package opinion_lexicon is already up-to-date!\n",
            "[nltk_data]    | Downloading package paradigms to /root/nltk_data...\n",
            "[nltk_data]    |   Package paradigms is already up-to-date!\n",
            "[nltk_data]    | Downloading package pil to /root/nltk_data...\n",
            "[nltk_data]    |   Package pil is already up-to-date!\n",
            "[nltk_data]    | Downloading package pl196x to /root/nltk_data...\n",
            "[nltk_data]    |   Package pl196x is already up-to-date!\n",
            "[nltk_data]    | Downloading package ppattach to /root/nltk_data...\n",
            "[nltk_data]    |   Package ppattach is already up-to-date!\n",
            "[nltk_data]    | Downloading package problem_reports to\n",
            "[nltk_data]    |     /root/nltk_data...\n",
            "[nltk_data]    |   Package problem_reports is already up-to-date!\n",
            "[nltk_data]    | Downloading package propbank to /root/nltk_data...\n",
            "[nltk_data]    |   Package propbank is already up-to-date!\n",
            "[nltk_data]    | Downloading package ptb to /root/nltk_data...\n",
            "[nltk_data]    |   Package ptb is already up-to-date!\n",
            "[nltk_data]    | Downloading package product_reviews_1 to\n",
            "[nltk_data]    |     /root/nltk_data...\n",
            "[nltk_data]    |   Package product_reviews_1 is already up-to-date!\n",
            "[nltk_data]    | Downloading package product_reviews_2 to\n",
            "[nltk_data]    |     /root/nltk_data...\n",
            "[nltk_data]    |   Package product_reviews_2 is already up-to-date!\n",
            "[nltk_data]    | Downloading package pros_cons to /root/nltk_data...\n",
            "[nltk_data]    |   Package pros_cons is already up-to-date!\n",
            "[nltk_data]    | Downloading package qc to /root/nltk_data...\n",
            "[nltk_data]    |   Package qc is already up-to-date!\n",
            "[nltk_data]    | Downloading package reuters to /root/nltk_data...\n",
            "[nltk_data]    |   Package reuters is already up-to-date!\n",
            "[nltk_data]    | Downloading package rte to /root/nltk_data...\n",
            "[nltk_data]    |   Package rte is already up-to-date!\n",
            "[nltk_data]    | Downloading package semcor to /root/nltk_data...\n",
            "[nltk_data]    |   Package semcor is already up-to-date!\n",
            "[nltk_data]    | Downloading package senseval to /root/nltk_data...\n",
            "[nltk_data]    |   Package senseval is already up-to-date!\n",
            "[nltk_data]    | Downloading package sentiwordnet to\n",
            "[nltk_data]    |     /root/nltk_data...\n",
            "[nltk_data]    |   Package sentiwordnet is already up-to-date!\n",
            "[nltk_data]    | Downloading package sentence_polarity to\n",
            "[nltk_data]    |     /root/nltk_data...\n",
            "[nltk_data]    |   Package sentence_polarity is already up-to-date!\n",
            "[nltk_data]    | Downloading package shakespeare to /root/nltk_data...\n",
            "[nltk_data]    |   Package shakespeare is already up-to-date!\n",
            "[nltk_data]    | Downloading package sinica_treebank to\n",
            "[nltk_data]    |     /root/nltk_data...\n",
            "[nltk_data]    |   Package sinica_treebank is already up-to-date!\n",
            "[nltk_data]    | Downloading package smultron to /root/nltk_data...\n",
            "[nltk_data]    |   Package smultron is already up-to-date!\n",
            "[nltk_data]    | Downloading package state_union to /root/nltk_data...\n",
            "[nltk_data]    |   Package state_union is already up-to-date!\n",
            "[nltk_data]    | Downloading package stopwords to /root/nltk_data...\n",
            "[nltk_data]    |   Package stopwords is already up-to-date!\n",
            "[nltk_data]    | Downloading package subjectivity to\n",
            "[nltk_data]    |     /root/nltk_data...\n",
            "[nltk_data]    |   Package subjectivity is already up-to-date!\n",
            "[nltk_data]    | Downloading package swadesh to /root/nltk_data...\n",
            "[nltk_data]    |   Package swadesh is already up-to-date!\n",
            "[nltk_data]    | Downloading package switchboard to /root/nltk_data...\n",
            "[nltk_data]    |   Package switchboard is already up-to-date!\n",
            "[nltk_data]    | Downloading package timit to /root/nltk_data...\n",
            "[nltk_data]    |   Package timit is already up-to-date!\n",
            "[nltk_data]    | Downloading package toolbox to /root/nltk_data...\n",
            "[nltk_data]    |   Package toolbox is already up-to-date!\n",
            "[nltk_data]    | Downloading package treebank to /root/nltk_data...\n",
            "[nltk_data]    |   Package treebank is already up-to-date!\n",
            "[nltk_data]    | Downloading package twitter_samples to\n",
            "[nltk_data]    |     /root/nltk_data...\n",
            "[nltk_data]    |   Package twitter_samples is already up-to-date!\n",
            "[nltk_data]    | Downloading package udhr to /root/nltk_data...\n",
            "[nltk_data]    |   Package udhr is already up-to-date!\n",
            "[nltk_data]    | Downloading package udhr2 to /root/nltk_data...\n",
            "[nltk_data]    |   Package udhr2 is already up-to-date!\n",
            "[nltk_data]    | Downloading package unicode_samples to\n",
            "[nltk_data]    |     /root/nltk_data...\n",
            "[nltk_data]    |   Package unicode_samples is already up-to-date!\n",
            "[nltk_data]    | Downloading package universal_treebanks_v20 to\n",
            "[nltk_data]    |     /root/nltk_data...\n",
            "[nltk_data]    |   Package universal_treebanks_v20 is already up-to-\n",
            "[nltk_data]    |       date!\n",
            "[nltk_data]    | Downloading package verbnet to /root/nltk_data...\n",
            "[nltk_data]    |   Package verbnet is already up-to-date!\n",
            "[nltk_data]    | Downloading package verbnet3 to /root/nltk_data...\n",
            "[nltk_data]    |   Package verbnet3 is already up-to-date!\n",
            "[nltk_data]    | Downloading package webtext to /root/nltk_data...\n",
            "[nltk_data]    |   Package webtext is already up-to-date!\n",
            "[nltk_data]    | Downloading package wordnet to /root/nltk_data...\n",
            "[nltk_data]    |   Package wordnet is already up-to-date!\n",
            "[nltk_data]    | Downloading package wordnet31 to /root/nltk_data...\n",
            "[nltk_data]    |   Package wordnet31 is already up-to-date!\n",
            "[nltk_data]    | Downloading package wordnet_ic to /root/nltk_data...\n",
            "[nltk_data]    |   Package wordnet_ic is already up-to-date!\n",
            "[nltk_data]    | Downloading package words to /root/nltk_data...\n",
            "[nltk_data]    |   Package words is already up-to-date!\n",
            "[nltk_data]    | Downloading package ycoe to /root/nltk_data...\n",
            "[nltk_data]    |   Package ycoe is already up-to-date!\n",
            "[nltk_data]    | Downloading package rslp to /root/nltk_data...\n",
            "[nltk_data]    |   Package rslp is already up-to-date!\n",
            "[nltk_data]    | Downloading package maxent_treebank_pos_tagger to\n",
            "[nltk_data]    |     /root/nltk_data...\n",
            "[nltk_data]    |   Package maxent_treebank_pos_tagger is already up-\n",
            "[nltk_data]    |       to-date!\n",
            "[nltk_data]    | Downloading package universal_tagset to\n",
            "[nltk_data]    |     /root/nltk_data...\n",
            "[nltk_data]    |   Package universal_tagset is already up-to-date!\n",
            "[nltk_data]    | Downloading package maxent_ne_chunker to\n",
            "[nltk_data]    |     /root/nltk_data...\n",
            "[nltk_data]    |   Package maxent_ne_chunker is already up-to-date!\n",
            "[nltk_data]    | Downloading package punkt to /root/nltk_data...\n",
            "[nltk_data]    |   Package punkt is already up-to-date!\n",
            "[nltk_data]    | Downloading package book_grammars to\n",
            "[nltk_data]    |     /root/nltk_data...\n",
            "[nltk_data]    |   Package book_grammars is already up-to-date!\n",
            "[nltk_data]    | Downloading package sample_grammars to\n",
            "[nltk_data]    |     /root/nltk_data...\n",
            "[nltk_data]    |   Package sample_grammars is already up-to-date!\n",
            "[nltk_data]    | Downloading package spanish_grammars to\n",
            "[nltk_data]    |     /root/nltk_data...\n",
            "[nltk_data]    |   Package spanish_grammars is already up-to-date!\n",
            "[nltk_data]    | Downloading package basque_grammars to\n",
            "[nltk_data]    |     /root/nltk_data...\n",
            "[nltk_data]    |   Package basque_grammars is already up-to-date!\n",
            "[nltk_data]    | Downloading package large_grammars to\n",
            "[nltk_data]    |     /root/nltk_data...\n",
            "[nltk_data]    |   Package large_grammars is already up-to-date!\n",
            "[nltk_data]    | Downloading package tagsets to /root/nltk_data...\n",
            "[nltk_data]    |   Package tagsets is already up-to-date!\n",
            "[nltk_data]    | Downloading package snowball_data to\n",
            "[nltk_data]    |     /root/nltk_data...\n",
            "[nltk_data]    |   Package snowball_data is already up-to-date!\n",
            "[nltk_data]    | Downloading package bllip_wsj_no_aux to\n",
            "[nltk_data]    |     /root/nltk_data...\n",
            "[nltk_data]    |   Package bllip_wsj_no_aux is already up-to-date!\n",
            "[nltk_data]    | Downloading package word2vec_sample to\n",
            "[nltk_data]    |     /root/nltk_data...\n",
            "[nltk_data]    |   Package word2vec_sample is already up-to-date!\n",
            "[nltk_data]    | Downloading package panlex_swadesh to\n",
            "[nltk_data]    |     /root/nltk_data...\n",
            "[nltk_data]    |   Package panlex_swadesh is already up-to-date!\n",
            "[nltk_data]    | Downloading package mte_teip5 to /root/nltk_data...\n",
            "[nltk_data]    |   Package mte_teip5 is already up-to-date!\n",
            "[nltk_data]    | Downloading package averaged_perceptron_tagger to\n",
            "[nltk_data]    |     /root/nltk_data...\n",
            "[nltk_data]    |   Package averaged_perceptron_tagger is already up-\n",
            "[nltk_data]    |       to-date!\n",
            "[nltk_data]    | Downloading package averaged_perceptron_tagger_ru to\n",
            "[nltk_data]    |     /root/nltk_data...\n",
            "[nltk_data]    |   Package averaged_perceptron_tagger_ru is already\n",
            "[nltk_data]    |       up-to-date!\n",
            "[nltk_data]    | Downloading package perluniprops to\n",
            "[nltk_data]    |     /root/nltk_data...\n",
            "[nltk_data]    |   Package perluniprops is already up-to-date!\n",
            "[nltk_data]    | Downloading package nonbreaking_prefixes to\n",
            "[nltk_data]    |     /root/nltk_data...\n",
            "[nltk_data]    |   Package nonbreaking_prefixes is already up-to-date!\n",
            "[nltk_data]    | Downloading package vader_lexicon to\n",
            "[nltk_data]    |     /root/nltk_data...\n",
            "[nltk_data]    |   Package vader_lexicon is already up-to-date!\n",
            "[nltk_data]    | Downloading package porter_test to /root/nltk_data...\n",
            "[nltk_data]    |   Package porter_test is already up-to-date!\n",
            "[nltk_data]    | Downloading package wmt15_eval to /root/nltk_data...\n",
            "[nltk_data]    |   Package wmt15_eval is already up-to-date!\n",
            "[nltk_data]    | Downloading package mwa_ppdb to /root/nltk_data...\n",
            "[nltk_data]    |   Package mwa_ppdb is already up-to-date!\n",
            "[nltk_data]    | \n",
            "[nltk_data]  Done downloading collection all\n"
          ]
        },
        {
          "output_type": "execute_result",
          "data": {
            "text/plain": [
              "True"
            ]
          },
          "metadata": {},
          "execution_count": 1
        }
      ]
    },
    {
      "cell_type": "code",
      "metadata": {
        "id": "f2c3ec09"
      },
      "source": [
        "with open(r\"/content/drive/MyDrive/data/small_vocab_en.txt\", \"r\") as f:\n",
        "    en_sent=f.read().split('\\n')\n",
        "\n",
        "with open(r\"/content/drive/MyDrive/data/small_vocab_fr.txt\", \"r\") as f:\n",
        "    fr_sent=f.read().split('\\n')\n"
      ],
      "id": "f2c3ec09",
      "execution_count": 2,
      "outputs": []
    },
    {
      "cell_type": "code",
      "metadata": {
        "id": "90ef9327"
      },
      "source": [
        "en_sent_clean=[]\n",
        "for sent in en_sent:\n",
        "    word_tok=word_tokenize(sent,'english')\n",
        "    new_word=[]\n",
        "    for token in word_tok:\n",
        "        if token not in string.punctuation:\n",
        "            new_word.append(token)\n",
        "    en_sent_clean.append((' '.join(new_word)).lower()+' eos')"
      ],
      "id": "90ef9327",
      "execution_count": 3,
      "outputs": []
    },
    {
      "cell_type": "code",
      "metadata": {
        "colab": {
          "base_uri": "https://localhost:8080/"
        },
        "id": "vv4jrpDI8HaT",
        "outputId": "8a048f4f-a5ab-436a-eaa0-b2d23986426a"
      },
      "source": [
        "en_sent_clean[:3]"
      ],
      "id": "vv4jrpDI8HaT",
      "execution_count": 4,
      "outputs": [
        {
          "output_type": "execute_result",
          "data": {
            "text/plain": [
              "['new jersey is sometimes quiet during autumn and it is snowy in april eos',\n",
              " 'the united states is usually chilly during july and it is usually freezing in november eos',\n",
              " 'california is usually quiet during march and it is usually hot in june eos']"
            ]
          },
          "metadata": {},
          "execution_count": 4
        }
      ]
    },
    {
      "cell_type": "code",
      "metadata": {
        "id": "ff98b4b8"
      },
      "source": [
        "fr_sent_clean=[]\n",
        "for sent in fr_sent:\n",
        "    word_tok=word_tokenize(sent,'french')\n",
        "    new_word=[]\n",
        "    for token in word_tok:\n",
        "        if token not in string.punctuation:\n",
        "            new_word.append(token)\n",
        "    fr_sent_clean.append('sos '+((' '.join(new_word)).lower()+' eos'))"
      ],
      "id": "ff98b4b8",
      "execution_count": 5,
      "outputs": []
    },
    {
      "cell_type": "code",
      "metadata": {
        "colab": {
          "base_uri": "https://localhost:8080/"
        },
        "id": "C19Bh08p8Lfn",
        "outputId": "96ae4e60-3f92-4e47-d25f-2a67a2a31aaa"
      },
      "source": [
        "fr_sent_clean[:3]"
      ],
      "id": "C19Bh08p8Lfn",
      "execution_count": 6,
      "outputs": [
        {
          "output_type": "execute_result",
          "data": {
            "text/plain": [
              "['sos new jersey est parfois calme pendant l automne et il est neigeux en avril eos',\n",
              " 'sos les états-unis est généralement froid en juillet et il gèle habituellement en novembre eos',\n",
              " 'sos california est généralement calme en mars et il est généralement chaud en juin eos']"
            ]
          },
          "metadata": {},
          "execution_count": 6
        }
      ]
    },
    {
      "cell_type": "code",
      "metadata": {
        "id": "67keSUzHfgb-"
      },
      "source": [
        "del en_sent\n",
        "del fr_sent"
      ],
      "id": "67keSUzHfgb-",
      "execution_count": 7,
      "outputs": []
    },
    {
      "cell_type": "code",
      "metadata": {
        "id": "9dee254d"
      },
      "source": [
        "toknizer_en  = tf.keras.preprocessing.text.Tokenizer()\n",
        "toknizer_en.fit_on_texts(en_sent_clean)\n",
        "sequences_en = toknizer_en.texts_to_sequences(en_sent_clean)"
      ],
      "id": "9dee254d",
      "execution_count": 8,
      "outputs": []
    },
    {
      "cell_type": "code",
      "metadata": {
        "id": "2a5e3630"
      },
      "source": [
        "toknizer_fr  = tf.keras.preprocessing.text.Tokenizer()\n",
        "toknizer_fr.fit_on_texts(fr_sent_clean)\n",
        "sequences_fr = toknizer_fr.texts_to_sequences(fr_sent_clean)"
      ],
      "id": "2a5e3630",
      "execution_count": 9,
      "outputs": []
    },
    {
      "cell_type": "code",
      "metadata": {
        "colab": {
          "base_uri": "https://localhost:8080/"
        },
        "id": "pMQVRqsj8RGf",
        "outputId": "92fb543c-c152-47e0-d926-c5a2cef6349e"
      },
      "source": [
        "sequences_en[:3]"
      ],
      "id": "pMQVRqsj8RGf",
      "execution_count": 10,
      "outputs": [
        {
          "output_type": "execute_result",
          "data": {
            "text/plain": [
              "[[18, 24, 1, 9, 68, 5, 40, 8, 4, 1, 56, 3, 45, 2],\n",
              " [6, 21, 22, 1, 10, 63, 5, 44, 8, 4, 1, 10, 52, 3, 46, 2],\n",
              " [23, 1, 10, 68, 5, 39, 8, 4, 1, 10, 69, 3, 35, 2]]"
            ]
          },
          "metadata": {},
          "execution_count": 10
        }
      ]
    },
    {
      "cell_type": "code",
      "metadata": {
        "colab": {
          "base_uri": "https://localhost:8080/"
        },
        "id": "bVL55PwF8S3A",
        "outputId": "07cc110a-7797-4b8a-a669-d703a2de4923"
      },
      "source": [
        "sequences_fr[:3]"
      ],
      "id": "bVL55PwF8S3A",
      "execution_count": 11,
      "outputs": [
        {
          "output_type": "execute_result",
          "data": {
            "text/plain": [
              "[[2, 37, 36, 1, 10, 69, 39, 13, 26, 8, 5, 1, 114, 4, 52, 3],\n",
              " [2, 6, 34, 33, 1, 14, 21, 4, 51, 8, 5, 97, 71, 4, 53, 3],\n",
              " [2, 103, 1, 14, 69, 4, 47, 8, 5, 1, 14, 23, 4, 43, 3]]"
            ]
          },
          "metadata": {},
          "execution_count": 11
        }
      ]
    },
    {
      "cell_type": "code",
      "metadata": {
        "id": "sneJEjZZJr66"
      },
      "source": [
        "frinput=[]\n",
        "froutput=[]\n",
        "for seq in sequences_fr:\n",
        "    seqx=seq[:-1]\n",
        "    seqy=seq[1:]\n",
        "    frinput.append(seqx)\n",
        "    froutput.append(seqy)"
      ],
      "id": "sneJEjZZJr66",
      "execution_count": 12,
      "outputs": []
    },
    {
      "cell_type": "code",
      "metadata": {
        "id": "98gCRv4oA-Ds"
      },
      "source": [
        "t1= max([len(w) for w in sequences_en])\n",
        "t2= max([len(w) for w in sequences_fr])\n",
        "maxlen=max([t1,t2])"
      ],
      "id": "98gCRv4oA-Ds",
      "execution_count": 13,
      "outputs": []
    },
    {
      "cell_type": "code",
      "metadata": {
        "id": "78cf69f9"
      },
      "source": [
        "pad_en=tf.keras.preprocessing.sequence.pad_sequences(sequences_en, padding='post',maxlen=maxlen)\n",
        "pad_frinput=tf.keras.preprocessing.sequence.pad_sequences(frinput, padding='post',maxlen=maxlen)\n",
        "pad_froutput=tf.keras.preprocessing.sequence.pad_sequences(froutput, padding='post',maxlen=maxlen)"
      ],
      "id": "78cf69f9",
      "execution_count": 14,
      "outputs": []
    },
    {
      "cell_type": "code",
      "metadata": {
        "id": "qIiPjDH5CMDn"
      },
      "source": [
        "hot_pad_fr=tf.keras.utils.to_categorical(pad_froutput)"
      ],
      "id": "qIiPjDH5CMDn",
      "execution_count": 15,
      "outputs": []
    },
    {
      "cell_type": "code",
      "metadata": {
        "id": "y0sfkwNZ496-"
      },
      "source": [
        "from sklearn.model_selection import train_test_split\n",
        "#[pad_en,pad_frinput],hot_pad_fr\n",
        "xt1,xs1,xt2,xs2,yt1,ys1=train_test_split(pad_en,pad_frinput,hot_pad_fr, test_size=0.1)"
      ],
      "id": "y0sfkwNZ496-",
      "execution_count": 16,
      "outputs": []
    },
    {
      "cell_type": "code",
      "metadata": {
        "id": "DTRYjPt-gFv-"
      },
      "source": [
        "del hot_pad_fr\n",
        "del pad_frinput\n",
        "del pad_en"
      ],
      "id": "DTRYjPt-gFv-",
      "execution_count": 17,
      "outputs": []
    },
    {
      "cell_type": "code",
      "metadata": {
        "colab": {
          "base_uri": "https://localhost:8080/"
        },
        "id": "LF4xH7aXkg6d",
        "outputId": "06aaf59d-269d-4cfb-8965-e065fc5d2048"
      },
      "source": [
        "import gc\n",
        "gc.collect()"
      ],
      "id": "LF4xH7aXkg6d",
      "execution_count": 30,
      "outputs": [
        {
          "output_type": "execute_result",
          "data": {
            "text/plain": [
              "18064"
            ]
          },
          "metadata": {},
          "execution_count": 30
        }
      ]
    },
    {
      "cell_type": "code",
      "metadata": {
        "colab": {
          "base_uri": "https://localhost:8080/"
        },
        "id": "Pdw0HJnxCbdU",
        "outputId": "9bb0483a-91da-46b4-a00f-f33f9f5c6458"
      },
      "source": [
        "input= tf.keras.Input((maxlen))\n",
        "embd=tf.keras.layers.Embedding(len(toknizer_en.word_index)+1,7,input_length=maxlen)(input)\n",
        "h0,h1,c=tf.keras.layers.LSTM(100,return_sequences=True,return_state=True)(embd)\n",
        "\n",
        "\n",
        "\n",
        "input2= tf.keras.Input((maxlen))\n",
        "decoder_embedding=tf.keras.layers.Embedding(len(toknizer_fr.word_index)+1,7,input_length=maxlen)(input2)\n",
        "\n",
        "decoder_out=tf.keras.layers.LSTM(100,return_sequences=True)(decoder_embedding, initial_state=[h1,c])\n",
        "\n",
        "attn_out, attn_states = tf.keras.layers.Attention()(\n",
        "    [decoder_out, h0],return_attention_scores=True)\n",
        "\n",
        "soft=tf.keras.layers.Softmax(axis=-1)(attn_states)\n",
        "\n",
        "\n",
        "\n",
        "decoder_concat_input = tf.keras.layers.Concatenate(axis=-1, name='concat_layer')([decoder_out, attn_out])\n",
        "\n",
        "d=tf.keras.layers.TimeDistributed(tf.keras.layers.Dense(len(toknizer_fr.word_index)+1\n",
        "                                                        ,activation='softmax'))(decoder_concat_input)\n",
        "model=tf.keras.Model([input,input2],d)\n",
        "model2=tf.keras.Model([input,input2],[d,soft])\n",
        "model2.summary()"
      ],
      "id": "Pdw0HJnxCbdU",
      "execution_count": 19,
      "outputs": [
        {
          "output_type": "stream",
          "name": "stdout",
          "text": [
            "Model: \"model_1\"\n",
            "__________________________________________________________________________________________________\n",
            " Layer (type)                   Output Shape         Param #     Connected to                     \n",
            "==================================================================================================\n",
            " input_1 (InputLayer)           [(None, 23)]         0           []                               \n",
            "                                                                                                  \n",
            " input_2 (InputLayer)           [(None, 23)]         0           []                               \n",
            "                                                                                                  \n",
            " embedding (Embedding)          (None, 23, 7)        1393        ['input_1[0][0]']                \n",
            "                                                                                                  \n",
            " embedding_1 (Embedding)        (None, 23, 7)        2429        ['input_2[0][0]']                \n",
            "                                                                                                  \n",
            " lstm (LSTM)                    [(None, 23, 100),    43200       ['embedding[0][0]']              \n",
            "                                 (None, 100),                                                     \n",
            "                                 (None, 100)]                                                     \n",
            "                                                                                                  \n",
            " lstm_1 (LSTM)                  (None, 23, 100)      43200       ['embedding_1[0][0]',            \n",
            "                                                                  'lstm[0][1]',                   \n",
            "                                                                  'lstm[0][2]']                   \n",
            "                                                                                                  \n",
            " attention (Attention)          ((None, 23, 100),    0           ['lstm_1[0][0]',                 \n",
            "                                 (None, 23, 23))                  'lstm[0][0]']                   \n",
            "                                                                                                  \n",
            " concat_layer (Concatenate)     (None, 23, 200)      0           ['lstm_1[0][0]',                 \n",
            "                                                                  'attention[0][0]']              \n",
            "                                                                                                  \n",
            " time_distributed (TimeDistribu  (None, 23, 347)     69747       ['concat_layer[0][0]']           \n",
            " ted)                                                                                             \n",
            "                                                                                                  \n",
            " softmax (Softmax)              (None, 23, 23)       0           ['attention[0][1]']              \n",
            "                                                                                                  \n",
            "==================================================================================================\n",
            "Total params: 159,969\n",
            "Trainable params: 159,969\n",
            "Non-trainable params: 0\n",
            "__________________________________________________________________________________________________\n"
          ]
        }
      ]
    },
    {
      "cell_type": "code",
      "metadata": {
        "id": "Y-SCs5LKDJ04"
      },
      "source": [
        "\n",
        "model.compile(loss=tf.keras.losses.categorical_crossentropy,optimizer=\n",
        "              tf.keras.optimizers.Adam(0.001))\n",
        "\n",
        "model2.compile(loss=tf.keras.losses.categorical_crossentropy,optimizer=\n",
        "              tf.keras.optimizers.Adam(0.001))"
      ],
      "id": "Y-SCs5LKDJ04",
      "execution_count": 20,
      "outputs": []
    },
    {
      "cell_type": "code",
      "metadata": {
        "id": "cJJL2XboNC_0"
      },
      "source": [
        "xt1,xs1,xt2,xs2,yt1,ys1\n",
        "model.fit([xt1,xt2],yt1,epochs=100,batch_size=32,validation_data=\n",
        "          ([xs1,xs2],ys1))"
      ],
      "id": "cJJL2XboNC_0",
      "execution_count": null,
      "outputs": []
    },
    {
      "cell_type": "code",
      "metadata": {
        "id": "JRXuTb3ehGwp"
      },
      "source": [
        "model2.save('/content/drive/MyDrive/modeldd.h5')"
      ],
      "id": "JRXuTb3ehGwp",
      "execution_count": 32,
      "outputs": []
    },
    {
      "cell_type": "code",
      "metadata": {
        "colab": {
          "base_uri": "https://localhost:8080/",
          "height": 594
        },
        "id": "94DN_Hy8NQ62",
        "outputId": "4a00aa03-583c-4296-9692-5191892087c7"
      },
      "source": [
        "\n",
        "\n",
        "r=np.random.randint(0,len(en_sent_clean)-1)\n",
        "entext=en_sent_clean[r]\n",
        "ground=fr_sent_clean[r]\n",
        "print(entext)\n",
        "print(ground)\n",
        "\n",
        "\n",
        "entoken=toknizer_en.texts_to_sequences([entext])\n",
        "entokenpad=tf.keras.preprocessing.sequence.pad_sequences(entoken, padding='post',maxlen=maxlen)\n",
        "\n",
        "frtext='sos'\n",
        "i=0\n",
        "attnsion=[]\n",
        "while True:\n",
        "  frtoken=toknizer_fr.texts_to_sequences([frtext])\n",
        "  frtokenpad=tf.keras.preprocessing.sequence.pad_sequences(frtoken, padding='post',maxlen=maxlen)\n",
        "  preds,attn=model2.predict([entokenpad,frtokenpad])\n",
        "  word_attn=attn[0,i]\n",
        "  index=np.argmax(preds[0,i])\n",
        "  word=list(toknizer_fr.word_index.keys())[list(toknizer_fr.word_index.values()).index(index)]\n",
        "  if word == 'eos':\n",
        "    frtext=frtext+' '+'eos'\n",
        "    attnsion.append(word_attn.tolist())\n",
        "    break\n",
        "  frtext=frtext+' '+word\n",
        "  attnsion.append(word_attn.tolist())\n",
        "  i+=1\n",
        "print(frtext)\n",
        "att_n=np.array(attnsion)\n",
        "entextpad= entext.split()\n",
        "\n",
        "while True:\n",
        "  if len( entextpad ) != maxlen:\n",
        "    entextpad.append(' <pad>')\n",
        "  else:\n",
        "    break\n",
        "import plotly.graph_objects as go\n",
        "xmin=10\n",
        "fig = go.Figure(data=go.Heatmap(\n",
        "                    z=att_n,\n",
        "                    x=entextpad,\n",
        "                    y=frtext.split()[1:]))\n",
        "fig['layout'].update(plot_bgcolor='black')\n",
        "fig.show()"
      ],
      "id": "94DN_Hy8NQ62",
      "execution_count": 36,
      "outputs": [
        {
          "output_type": "stream",
          "name": "stdout",
          "text": [
            "the united states is busy during january and it is never relaxing in spring eos\n",
            "sos les états-unis est occupé en janvier et il est jamais relaxant au printemps eos\n",
            "sos les états unis est occupé en janvier et il est jamais relaxant au printemps eos\n"
          ]
        },
        {
          "output_type": "display_data",
          "data": {
            "text/html": [
              "<html>\n",
              "<head><meta charset=\"utf-8\" /></head>\n",
              "<body>\n",
              "    <div>\n",
              "            <script src=\"https://cdnjs.cloudflare.com/ajax/libs/mathjax/2.7.5/MathJax.js?config=TeX-AMS-MML_SVG\"></script><script type=\"text/javascript\">if (window.MathJax) {MathJax.Hub.Config({SVG: {font: \"STIX-Web\"}});}</script>\n",
              "                <script type=\"text/javascript\">window.PlotlyConfig = {MathJaxConfig: 'local'};</script>\n",
              "        <script src=\"https://cdn.plot.ly/plotly-latest.min.js\"></script>    \n",
              "            <div id=\"591165e6-9531-4a06-bb35-f9c402c062be\" class=\"plotly-graph-div\" style=\"height:525px; width:100%;\"></div>\n",
              "            <script type=\"text/javascript\">\n",
              "                \n",
              "                    window.PLOTLYENV=window.PLOTLYENV || {};\n",
              "                    \n",
              "                if (document.getElementById(\"591165e6-9531-4a06-bb35-f9c402c062be\")) {\n",
              "                    Plotly.newPlot(\n",
              "                        '591165e6-9531-4a06-bb35-f9c402c062be',\n",
              "                        [{\"type\": \"heatmap\", \"x\": [\"the\", \"united\", \"states\", \"is\", \"busy\", \"during\", \"january\", \"and\", \"it\", \"is\", \"never\", \"relaxing\", \"in\", \"spring\", \"eos\", \" <pad>\", \" <pad>\", \" <pad>\", \" <pad>\", \" <pad>\", \" <pad>\", \" <pad>\", \" <pad>\"], \"y\": [\"les\", \"\\u00e9tats\", \"unis\", \"est\", \"occup\\u00e9\", \"en\", \"janvier\", \"et\", \"il\", \"est\", \"jamais\", \"relaxant\", \"au\", \"printemps\", \"eos\"], \"z\": [[0.04139861464500427, 0.04139861464500427, 0.04139861464500427, 0.04139861464500427, 0.04139861464500427, 0.04139861464500427, 0.04139861464500427, 0.041398633271455765, 0.041406143456697464, 0.04176351800560951, 0.0642535537481308, 0.04995099827647209, 0.04159501940011978, 0.05082106590270996, 0.04246512055397034, 0.042107436805963516, 0.042663272470235825, 0.04228467121720314, 0.042084600776433945, 0.04198586940765381, 0.04182516038417816, 0.04178802669048309, 0.0418165847659111], [0.041128795593976974, 0.041128795593976974, 0.041128795593976974, 0.041128795593976974, 0.041128795593976974, 0.041128795593976974, 0.04112880676984787, 0.04112889990210533, 0.04123779386281967, 0.044358815997838974, 0.08200215548276901, 0.04307745024561882, 0.04156222566962242, 0.04563121125102043, 0.04166887700557709, 0.041772499680519104, 0.04193487390875816, 0.041369788348674774, 0.04135415703058243, 0.04130009189248085, 0.041230425238609314, 0.04122589901089668, 0.04124322161078453], [0.04072808474302292, 0.04072808474302292, 0.04072807729244232, 0.04072807729244232, 0.04072807729244232, 0.04072807729244232, 0.04072808474302292, 0.040728308260440826, 0.04150998592376709, 0.09945940971374512, 0.04433257877826691, 0.040747299790382385, 0.04075110703706741, 0.04078109562397003, 0.04073202610015869, 0.04073167219758034, 0.04073431342840195, 0.040733132511377335, 0.04073392227292061, 0.04073299095034599, 0.04073179513216019, 0.04073178023099899, 0.04073205962777138], [0.04054670035839081, 0.04054670035839081, 0.04054670035839081, 0.04054670035839081, 0.04054670035839081, 0.04054670035839081, 0.04054670035839081, 0.04054700583219528, 0.04130740836262703, 0.1066131591796875, 0.04114335775375366, 0.04054677113890648, 0.04054680094122887, 0.04054773971438408, 0.040546756237745285, 0.040546711534261703, 0.040546711534261703, 0.040546711534261703, 0.04054674878716469, 0.04054679721593857, 0.04054680094122887, 0.040546804666519165, 0.04054681584239006], [0.04064264893531799, 0.04064264893531799, 0.04064264893531799, 0.04064264893531799, 0.04064264893531799, 0.04064264893531799, 0.04064265638589859, 0.04064716771245003, 0.04267040267586708, 0.10292565822601318, 0.04151253029704094, 0.04064269736409187, 0.04064275696873665, 0.040658023208379745, 0.04064272716641426, 0.040642786771059036, 0.040642913430929184, 0.04064367339015007, 0.04064469411969185, 0.04064717888832092, 0.0406474694609642, 0.040645964443683624, 0.040644776076078415], [0.040884003043174744, 0.04088398441672325, 0.04088409245014191, 0.040884166955947876, 0.04088398441672325, 0.04088406264781952, 0.04088747873902321, 0.04210363328456879, 0.09263312071561813, 0.04730696603655815, 0.04114510864019394, 0.04088394716382027, 0.040883928537368774, 0.040884941816329956, 0.04088393226265907, 0.04088393971323967, 0.04088401421904564, 0.04088420793414116, 0.040884703397750854, 0.04088614881038666, 0.04088721424341202, 0.040886662900447845, 0.04088578373193741], [0.04115435481071472, 0.04115435853600502, 0.04115436226129532, 0.04115436598658562, 0.04115436226129532, 0.04115435481071472, 0.04115435853600502, 0.041179269552230835, 0.07021842896938324, 0.0654974952340126, 0.04116877168416977, 0.04115436226129532, 0.04115435108542442, 0.04115435108542442, 0.04115435108542442, 0.04115435108542442, 0.04115435853600502, 0.04115438461303711, 0.041154492646455765, 0.041154894977808, 0.04115530103445053, 0.041155263781547546, 0.041155047714710236], [0.04126438871026039, 0.04126434773206711, 0.04126446694135666, 0.04126441851258278, 0.04126426577568054, 0.041264232248067856, 0.041264235973358154, 0.04126832261681557, 0.0450136736035347, 0.06534688919782639, 0.06331083923578262, 0.0413891077041626, 0.04126657173037529, 0.04127003625035286, 0.04126467928290367, 0.04126550257205963, 0.0412893183529377, 0.04131847247481346, 0.041370291262865067, 0.04143807291984558, 0.04146620258688927, 0.041447460651397705, 0.041424185037612915], [0.04150193929672241, 0.041501935571432114, 0.041501935571432114, 0.041501935571432114, 0.041501935571432114, 0.041501935571432114, 0.041501935571432114, 0.041501935571432114, 0.04150199145078659, 0.041503164917230606, 0.041502468287944794, 0.04150275141000748, 0.04150523990392685, 0.04174632951617241, 0.04384889081120491, 0.04224133864045143, 0.04777495563030243, 0.05423611029982567, 0.052495818585157394, 0.0478164441883564, 0.04434815049171448, 0.04315493255853653, 0.04280593991279602], [0.041290149092674255, 0.041290175169706345, 0.041290201246738434, 0.04129011183977127, 0.04129009321331978, 0.04129009321331978, 0.04129009321331978, 0.04129009321331978, 0.04129016771912575, 0.04130332171916962, 0.041291818022727966, 0.041290488094091415, 0.04189209267497063, 0.05314843729138374, 0.07124733179807663, 0.04384789988398552, 0.043380677700042725, 0.042632509022951126, 0.04243350774049759, 0.04176861047744751, 0.04143713414669037, 0.041364122182130814, 0.0413508415222168], [0.0414801724255085, 0.04148018732666969, 0.0414801687002182, 0.04148015007376671, 0.04148014634847641, 0.04148014634847641, 0.04148014634847641, 0.04148014634847641, 0.04148015007376671, 0.041480548679828644, 0.04148031026124954, 0.04148015007376671, 0.0414821021258831, 0.0415385365486145, 0.04203886538743973, 0.043466392904520035, 0.04710768163204193, 0.056312043219804764, 0.05306033417582512, 0.047916799783706665, 0.043917715549468994, 0.04279907047748566, 0.04259798303246498], [0.041428081691265106, 0.041427869349718094, 0.04142773896455765, 0.04142765328288078, 0.0414276085793972, 0.0414276048541069, 0.041427597403526306, 0.041427601128816605, 0.04142766445875168, 0.04143587127327919, 0.04142776131629944, 0.041427627205848694, 0.04174916073679924, 0.05770125985145569, 0.042958807200193405, 0.042523156851530075, 0.04546855390071869, 0.05807839334011078, 0.04646905139088631, 0.04272417724132538, 0.04186958447098732, 0.04167637228965759, 0.041640836745500565], [0.04049725830554962, 0.04049726203083992, 0.04049726575613022, 0.04049725830554962, 0.04049725458025932, 0.04049725458025932, 0.04049725830554962, 0.04049725830554962, 0.04049725458025932, 0.04049725458025932, 0.04049725458025932, 0.04049725458025932, 0.04049799591302872, 0.10845404118299484, 0.040946949273347855, 0.04060700535774231, 0.04051076993346214, 0.04051205515861511, 0.040506504476070404, 0.04050187021493912, 0.040499258786439896, 0.040498364716768265, 0.04049810394644737], [0.04064669460058212, 0.04064669460058212, 0.04064669460058212, 0.04064669460058212, 0.040646690875291824, 0.040646690875291824, 0.040646690875291824, 0.040646690875291824, 0.040646690875291824, 0.040646690875291824, 0.04064669832587242, 0.04064670205116272, 0.040651142597198486, 0.10278738290071487, 0.04215975105762482, 0.041962988674640656, 0.040768206119537354, 0.040670011192560196, 0.040651120245456696, 0.04064811393618584, 0.040647201240062714, 0.04064693674445152, 0.04064686596393585], [0.04110526666045189, 0.04110528156161308, 0.041105300188064575, 0.041105274111032486, 0.04110526293516159, 0.04110525920987129, 0.04110525920987129, 0.04110525920987129, 0.04110526293516159, 0.04110526293516159, 0.04110531136393547, 0.04110724851489067, 0.04110712930560112, 0.08310702443122864, 0.044478029012680054, 0.0444764606654644, 0.04431449621915817, 0.042386315762996674, 0.0418747179210186, 0.04144824296236038, 0.04122747480869293, 0.04116639122366905, 0.04114845022559166]]}],\n",
              "                        {\"plot_bgcolor\": \"black\", \"template\": {\"data\": {\"bar\": [{\"error_x\": {\"color\": \"#2a3f5f\"}, \"error_y\": {\"color\": \"#2a3f5f\"}, \"marker\": {\"line\": {\"color\": \"#E5ECF6\", \"width\": 0.5}}, \"type\": \"bar\"}], \"barpolar\": [{\"marker\": {\"line\": {\"color\": \"#E5ECF6\", \"width\": 0.5}}, \"type\": \"barpolar\"}], \"carpet\": [{\"aaxis\": {\"endlinecolor\": \"#2a3f5f\", \"gridcolor\": \"white\", \"linecolor\": \"white\", \"minorgridcolor\": \"white\", \"startlinecolor\": \"#2a3f5f\"}, \"baxis\": {\"endlinecolor\": \"#2a3f5f\", \"gridcolor\": \"white\", \"linecolor\": \"white\", \"minorgridcolor\": \"white\", \"startlinecolor\": \"#2a3f5f\"}, \"type\": \"carpet\"}], \"choropleth\": [{\"colorbar\": {\"outlinewidth\": 0, \"ticks\": \"\"}, \"type\": \"choropleth\"}], \"contour\": [{\"colorbar\": {\"outlinewidth\": 0, \"ticks\": \"\"}, \"colorscale\": [[0.0, \"#0d0887\"], [0.1111111111111111, \"#46039f\"], [0.2222222222222222, \"#7201a8\"], [0.3333333333333333, \"#9c179e\"], [0.4444444444444444, \"#bd3786\"], [0.5555555555555556, \"#d8576b\"], [0.6666666666666666, \"#ed7953\"], [0.7777777777777778, \"#fb9f3a\"], [0.8888888888888888, \"#fdca26\"], [1.0, \"#f0f921\"]], \"type\": \"contour\"}], \"contourcarpet\": [{\"colorbar\": {\"outlinewidth\": 0, \"ticks\": \"\"}, \"type\": \"contourcarpet\"}], \"heatmap\": [{\"colorbar\": {\"outlinewidth\": 0, \"ticks\": \"\"}, \"colorscale\": [[0.0, \"#0d0887\"], [0.1111111111111111, \"#46039f\"], [0.2222222222222222, \"#7201a8\"], [0.3333333333333333, \"#9c179e\"], [0.4444444444444444, \"#bd3786\"], [0.5555555555555556, \"#d8576b\"], [0.6666666666666666, \"#ed7953\"], [0.7777777777777778, \"#fb9f3a\"], [0.8888888888888888, \"#fdca26\"], [1.0, \"#f0f921\"]], \"type\": \"heatmap\"}], \"heatmapgl\": [{\"colorbar\": {\"outlinewidth\": 0, \"ticks\": \"\"}, \"colorscale\": [[0.0, \"#0d0887\"], [0.1111111111111111, \"#46039f\"], [0.2222222222222222, \"#7201a8\"], [0.3333333333333333, \"#9c179e\"], [0.4444444444444444, \"#bd3786\"], [0.5555555555555556, \"#d8576b\"], [0.6666666666666666, \"#ed7953\"], [0.7777777777777778, \"#fb9f3a\"], [0.8888888888888888, \"#fdca26\"], [1.0, \"#f0f921\"]], \"type\": \"heatmapgl\"}], \"histogram\": [{\"marker\": {\"colorbar\": {\"outlinewidth\": 0, \"ticks\": \"\"}}, \"type\": \"histogram\"}], \"histogram2d\": [{\"colorbar\": {\"outlinewidth\": 0, \"ticks\": \"\"}, \"colorscale\": [[0.0, \"#0d0887\"], [0.1111111111111111, \"#46039f\"], [0.2222222222222222, \"#7201a8\"], [0.3333333333333333, \"#9c179e\"], [0.4444444444444444, \"#bd3786\"], [0.5555555555555556, \"#d8576b\"], [0.6666666666666666, \"#ed7953\"], [0.7777777777777778, \"#fb9f3a\"], [0.8888888888888888, \"#fdca26\"], [1.0, \"#f0f921\"]], \"type\": \"histogram2d\"}], \"histogram2dcontour\": [{\"colorbar\": {\"outlinewidth\": 0, \"ticks\": \"\"}, \"colorscale\": [[0.0, \"#0d0887\"], [0.1111111111111111, \"#46039f\"], [0.2222222222222222, \"#7201a8\"], [0.3333333333333333, \"#9c179e\"], [0.4444444444444444, \"#bd3786\"], [0.5555555555555556, \"#d8576b\"], [0.6666666666666666, \"#ed7953\"], [0.7777777777777778, \"#fb9f3a\"], [0.8888888888888888, \"#fdca26\"], [1.0, \"#f0f921\"]], \"type\": \"histogram2dcontour\"}], \"mesh3d\": [{\"colorbar\": {\"outlinewidth\": 0, \"ticks\": \"\"}, \"type\": \"mesh3d\"}], \"parcoords\": [{\"line\": {\"colorbar\": {\"outlinewidth\": 0, \"ticks\": \"\"}}, \"type\": \"parcoords\"}], \"pie\": [{\"automargin\": true, \"type\": \"pie\"}], \"scatter\": [{\"marker\": {\"colorbar\": {\"outlinewidth\": 0, \"ticks\": \"\"}}, \"type\": \"scatter\"}], \"scatter3d\": [{\"line\": {\"colorbar\": {\"outlinewidth\": 0, \"ticks\": \"\"}}, \"marker\": {\"colorbar\": {\"outlinewidth\": 0, \"ticks\": \"\"}}, \"type\": \"scatter3d\"}], \"scattercarpet\": [{\"marker\": {\"colorbar\": {\"outlinewidth\": 0, \"ticks\": \"\"}}, \"type\": \"scattercarpet\"}], \"scattergeo\": [{\"marker\": {\"colorbar\": {\"outlinewidth\": 0, \"ticks\": \"\"}}, \"type\": \"scattergeo\"}], \"scattergl\": [{\"marker\": {\"colorbar\": {\"outlinewidth\": 0, \"ticks\": \"\"}}, \"type\": \"scattergl\"}], \"scattermapbox\": [{\"marker\": {\"colorbar\": {\"outlinewidth\": 0, \"ticks\": \"\"}}, \"type\": \"scattermapbox\"}], \"scatterpolar\": [{\"marker\": {\"colorbar\": {\"outlinewidth\": 0, \"ticks\": \"\"}}, \"type\": \"scatterpolar\"}], \"scatterpolargl\": [{\"marker\": {\"colorbar\": {\"outlinewidth\": 0, \"ticks\": \"\"}}, \"type\": \"scatterpolargl\"}], \"scatterternary\": [{\"marker\": {\"colorbar\": {\"outlinewidth\": 0, \"ticks\": \"\"}}, \"type\": \"scatterternary\"}], \"surface\": [{\"colorbar\": {\"outlinewidth\": 0, \"ticks\": \"\"}, \"colorscale\": [[0.0, \"#0d0887\"], [0.1111111111111111, \"#46039f\"], [0.2222222222222222, \"#7201a8\"], [0.3333333333333333, \"#9c179e\"], [0.4444444444444444, \"#bd3786\"], [0.5555555555555556, \"#d8576b\"], [0.6666666666666666, \"#ed7953\"], [0.7777777777777778, \"#fb9f3a\"], [0.8888888888888888, \"#fdca26\"], [1.0, \"#f0f921\"]], \"type\": \"surface\"}], \"table\": [{\"cells\": {\"fill\": {\"color\": \"#EBF0F8\"}, \"line\": {\"color\": \"white\"}}, \"header\": {\"fill\": {\"color\": \"#C8D4E3\"}, \"line\": {\"color\": \"white\"}}, \"type\": \"table\"}]}, \"layout\": {\"annotationdefaults\": {\"arrowcolor\": \"#2a3f5f\", \"arrowhead\": 0, \"arrowwidth\": 1}, \"coloraxis\": {\"colorbar\": {\"outlinewidth\": 0, \"ticks\": \"\"}}, \"colorscale\": {\"diverging\": [[0, \"#8e0152\"], [0.1, \"#c51b7d\"], [0.2, \"#de77ae\"], [0.3, \"#f1b6da\"], [0.4, \"#fde0ef\"], [0.5, \"#f7f7f7\"], [0.6, \"#e6f5d0\"], [0.7, \"#b8e186\"], [0.8, \"#7fbc41\"], [0.9, \"#4d9221\"], [1, \"#276419\"]], \"sequential\": [[0.0, \"#0d0887\"], [0.1111111111111111, \"#46039f\"], [0.2222222222222222, \"#7201a8\"], [0.3333333333333333, \"#9c179e\"], [0.4444444444444444, \"#bd3786\"], [0.5555555555555556, \"#d8576b\"], [0.6666666666666666, \"#ed7953\"], [0.7777777777777778, \"#fb9f3a\"], [0.8888888888888888, \"#fdca26\"], [1.0, \"#f0f921\"]], \"sequentialminus\": [[0.0, \"#0d0887\"], [0.1111111111111111, \"#46039f\"], [0.2222222222222222, \"#7201a8\"], [0.3333333333333333, \"#9c179e\"], [0.4444444444444444, \"#bd3786\"], [0.5555555555555556, \"#d8576b\"], [0.6666666666666666, \"#ed7953\"], [0.7777777777777778, \"#fb9f3a\"], [0.8888888888888888, \"#fdca26\"], [1.0, \"#f0f921\"]]}, \"colorway\": [\"#636efa\", \"#EF553B\", \"#00cc96\", \"#ab63fa\", \"#FFA15A\", \"#19d3f3\", \"#FF6692\", \"#B6E880\", \"#FF97FF\", \"#FECB52\"], \"font\": {\"color\": \"#2a3f5f\"}, \"geo\": {\"bgcolor\": \"white\", \"lakecolor\": \"white\", \"landcolor\": \"#E5ECF6\", \"showlakes\": true, \"showland\": true, \"subunitcolor\": \"white\"}, \"hoverlabel\": {\"align\": \"left\"}, \"hovermode\": \"closest\", \"mapbox\": {\"style\": \"light\"}, \"paper_bgcolor\": \"white\", \"plot_bgcolor\": \"#E5ECF6\", \"polar\": {\"angularaxis\": {\"gridcolor\": \"white\", \"linecolor\": \"white\", \"ticks\": \"\"}, \"bgcolor\": \"#E5ECF6\", \"radialaxis\": {\"gridcolor\": \"white\", \"linecolor\": \"white\", \"ticks\": \"\"}}, \"scene\": {\"xaxis\": {\"backgroundcolor\": \"#E5ECF6\", \"gridcolor\": \"white\", \"gridwidth\": 2, \"linecolor\": \"white\", \"showbackground\": true, \"ticks\": \"\", \"zerolinecolor\": \"white\"}, \"yaxis\": {\"backgroundcolor\": \"#E5ECF6\", \"gridcolor\": \"white\", \"gridwidth\": 2, \"linecolor\": \"white\", \"showbackground\": true, \"ticks\": \"\", \"zerolinecolor\": \"white\"}, \"zaxis\": {\"backgroundcolor\": \"#E5ECF6\", \"gridcolor\": \"white\", \"gridwidth\": 2, \"linecolor\": \"white\", \"showbackground\": true, \"ticks\": \"\", \"zerolinecolor\": \"white\"}}, \"shapedefaults\": {\"line\": {\"color\": \"#2a3f5f\"}}, \"ternary\": {\"aaxis\": {\"gridcolor\": \"white\", \"linecolor\": \"white\", \"ticks\": \"\"}, \"baxis\": {\"gridcolor\": \"white\", \"linecolor\": \"white\", \"ticks\": \"\"}, \"bgcolor\": \"#E5ECF6\", \"caxis\": {\"gridcolor\": \"white\", \"linecolor\": \"white\", \"ticks\": \"\"}}, \"title\": {\"x\": 0.05}, \"xaxis\": {\"automargin\": true, \"gridcolor\": \"white\", \"linecolor\": \"white\", \"ticks\": \"\", \"title\": {\"standoff\": 15}, \"zerolinecolor\": \"white\", \"zerolinewidth\": 2}, \"yaxis\": {\"automargin\": true, \"gridcolor\": \"white\", \"linecolor\": \"white\", \"ticks\": \"\", \"title\": {\"standoff\": 15}, \"zerolinecolor\": \"white\", \"zerolinewidth\": 2}}}},\n",
              "                        {\"responsive\": true}\n",
              "                    ).then(function(){\n",
              "                            \n",
              "var gd = document.getElementById('591165e6-9531-4a06-bb35-f9c402c062be');\n",
              "var x = new MutationObserver(function (mutations, observer) {{\n",
              "        var display = window.getComputedStyle(gd).display;\n",
              "        if (!display || display === 'none') {{\n",
              "            console.log([gd, 'removed!']);\n",
              "            Plotly.purge(gd);\n",
              "            observer.disconnect();\n",
              "        }}\n",
              "}});\n",
              "\n",
              "// Listen for the removal of the full notebook cells\n",
              "var notebookContainer = gd.closest('#notebook-container');\n",
              "if (notebookContainer) {{\n",
              "    x.observe(notebookContainer, {childList: true});\n",
              "}}\n",
              "\n",
              "// Listen for the clearing of the current output cell\n",
              "var outputEl = gd.closest('.output');\n",
              "if (outputEl) {{\n",
              "    x.observe(outputEl, {childList: true});\n",
              "}}\n",
              "\n",
              "                        })\n",
              "                };\n",
              "                \n",
              "            </script>\n",
              "        </div>\n",
              "</body>\n",
              "</html>"
            ]
          },
          "metadata": {}
        }
      ]
    },
    {
      "cell_type": "code",
      "metadata": {
        "id": "qJmXcETmkE02"
      },
      "source": [
        ""
      ],
      "id": "qJmXcETmkE02",
      "execution_count": null,
      "outputs": []
    }
  ]
}