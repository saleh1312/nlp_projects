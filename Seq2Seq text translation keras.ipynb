{
  "nbformat": 4,
  "nbformat_minor": 5,
  "metadata": {
    "kernelspec": {
      "display_name": "Python 3 (ipykernel)",
      "language": "python",
      "name": "python3"
    },
    "language_info": {
      "codemirror_mode": {
        "name": "ipython",
        "version": 3
      },
      "file_extension": ".py",
      "mimetype": "text/x-python",
      "name": "python",
      "nbconvert_exporter": "python",
      "pygments_lexer": "ipython3",
      "version": "3.7.11"
    },
    "colab": {
      "name": "Untitled4.ipynb",
      "provenance": [],
      "collapsed_sections": [],
      "include_colab_link": true
    },
    "accelerator": "GPU"
  },
  "cells": [
    {
      "cell_type": "markdown",
      "metadata": {
        "id": "view-in-github",
        "colab_type": "text"
      },
      "source": [
        "<a href=\"https://colab.research.google.com/github/saleh1312/nlp_projects/blob/main/Seq2Seq%20text%20translation%20keras.ipynb\" target=\"_parent\"><img src=\"https://colab.research.google.com/assets/colab-badge.svg\" alt=\"Open In Colab\"/></a>"
      ]
    },
    {
      "cell_type": "code",
      "metadata": {
        "id": "cbfbdb03"
      },
      "source": [
        "import numpy\n",
        "import string\n",
        "import nltk\n",
        "import numpy as np\n",
        "from nltk.tokenize import sent_tokenize, word_tokenize\n",
        "import spacy\n",
        "import tensorflow as tf\n",
        "nltk.download('all')"
      ],
      "id": "cbfbdb03",
      "execution_count": null,
      "outputs": []
    },
    {
      "cell_type": "code",
      "metadata": {
        "id": "f2c3ec09"
      },
      "source": [
        "with open(r\"small_vocab_en.txt\", \"r\") as f:\n",
        "    en_sent=f.read().split('\\n')\n",
        "\n",
        "with open(r\"small_vocab_fr.txt\", \"r\") as f:\n",
        "    fr_sent=f.read().split('\\n')\n"
      ],
      "id": "f2c3ec09",
      "execution_count": 2,
      "outputs": []
    },
    {
      "cell_type": "code",
      "metadata": {
        "id": "90ef9327"
      },
      "source": [
        "en_sent_clean=[]\n",
        "for sent in en_sent:\n",
        "    word_tok=word_tokenize(sent,'english')\n",
        "    new_word=[]\n",
        "    for token in word_tok:\n",
        "        if token not in string.punctuation:\n",
        "            new_word.append(token)\n",
        "    en_sent_clean.append((' '.join(new_word)).lower()+' eos')"
      ],
      "id": "90ef9327",
      "execution_count": 3,
      "outputs": []
    },
    {
      "cell_type": "code",
      "metadata": {
        "colab": {
          "base_uri": "https://localhost:8080/"
        },
        "id": "vv4jrpDI8HaT",
        "outputId": "d0e49a68-47c9-4e2a-c64f-e823f92dbe2d"
      },
      "source": [
        "en_sent_clean[:3]"
      ],
      "id": "vv4jrpDI8HaT",
      "execution_count": 94,
      "outputs": [
        {
          "output_type": "execute_result",
          "data": {
            "text/plain": [
              "['new jersey is sometimes quiet during autumn and it is snowy in april eos',\n",
              " 'the united states is usually chilly during july and it is usually freezing in november eos',\n",
              " 'california is usually quiet during march and it is usually hot in june eos']"
            ]
          },
          "metadata": {},
          "execution_count": 94
        }
      ]
    },
    {
      "cell_type": "code",
      "metadata": {
        "id": "ff98b4b8"
      },
      "source": [
        "fr_sent_clean=[]\n",
        "for sent in fr_sent:\n",
        "    word_tok=word_tokenize(sent,'french')\n",
        "    new_word=[]\n",
        "    for token in word_tok:\n",
        "        if token not in string.punctuation:\n",
        "            new_word.append(token)\n",
        "    fr_sent_clean.append('sos '+((' '.join(new_word)).lower()+' eos'))"
      ],
      "id": "ff98b4b8",
      "execution_count": 4,
      "outputs": []
    },
    {
      "cell_type": "code",
      "metadata": {
        "colab": {
          "base_uri": "https://localhost:8080/"
        },
        "id": "C19Bh08p8Lfn",
        "outputId": "d6a5c39b-3e3e-4d1f-a955-02e295deb863"
      },
      "source": [
        "fr_sent_clean[:3]"
      ],
      "id": "C19Bh08p8Lfn",
      "execution_count": 95,
      "outputs": [
        {
          "output_type": "execute_result",
          "data": {
            "text/plain": [
              "['sos new jersey est parfois calme pendant l automne et il est neigeux en avril eos',\n",
              " 'sos les états-unis est généralement froid en juillet et il gèle habituellement en novembre eos',\n",
              " 'sos california est généralement calme en mars et il est généralement chaud en juin eos']"
            ]
          },
          "metadata": {},
          "execution_count": 95
        }
      ]
    },
    {
      "cell_type": "code",
      "metadata": {
        "id": "9dee254d"
      },
      "source": [
        "toknizer_en  = tf.keras.preprocessing.text.Tokenizer()\n",
        "toknizer_en.fit_on_texts(en_sent_clean)\n",
        "sequences_en = toknizer_en.texts_to_sequences(en_sent_clean)"
      ],
      "id": "9dee254d",
      "execution_count": 5,
      "outputs": []
    },
    {
      "cell_type": "code",
      "metadata": {
        "id": "2a5e3630"
      },
      "source": [
        "toknizer_fr  = tf.keras.preprocessing.text.Tokenizer()\n",
        "toknizer_fr.fit_on_texts(fr_sent_clean)\n",
        "sequences_fr = toknizer_fr.texts_to_sequences(fr_sent_clean)"
      ],
      "id": "2a5e3630",
      "execution_count": 6,
      "outputs": []
    },
    {
      "cell_type": "code",
      "metadata": {
        "colab": {
          "base_uri": "https://localhost:8080/"
        },
        "id": "pMQVRqsj8RGf",
        "outputId": "b5baadc9-50c5-40d4-a4a3-00ada3d7c186"
      },
      "source": [
        "sequences_en[:3]"
      ],
      "id": "pMQVRqsj8RGf",
      "execution_count": 96,
      "outputs": [
        {
          "output_type": "execute_result",
          "data": {
            "text/plain": [
              "[[18, 24, 1, 9, 68, 5, 40, 8, 4, 1, 56, 3, 45, 2],\n",
              " [6, 21, 22, 1, 10, 63, 5, 44, 8, 4, 1, 10, 52, 3, 46, 2],\n",
              " [23, 1, 10, 68, 5, 39, 8, 4, 1, 10, 69, 3, 35, 2]]"
            ]
          },
          "metadata": {},
          "execution_count": 96
        }
      ]
    },
    {
      "cell_type": "code",
      "metadata": {
        "colab": {
          "base_uri": "https://localhost:8080/"
        },
        "id": "bVL55PwF8S3A",
        "outputId": "8d23ff38-8a98-4637-bc60-c7cb6e64c7eb"
      },
      "source": [
        "sequences_fr[:3]"
      ],
      "id": "bVL55PwF8S3A",
      "execution_count": 97,
      "outputs": [
        {
          "output_type": "execute_result",
          "data": {
            "text/plain": [
              "[[2, 37, 36, 1, 10, 69, 39, 13, 26, 8, 5, 1, 114, 4, 52, 3],\n",
              " [2, 6, 34, 33, 1, 14, 21, 4, 51, 8, 5, 97, 71, 4, 53, 3],\n",
              " [2, 103, 1, 14, 69, 4, 47, 8, 5, 1, 14, 23, 4, 43, 3]]"
            ]
          },
          "metadata": {},
          "execution_count": 97
        }
      ]
    },
    {
      "cell_type": "code",
      "metadata": {
        "id": "sneJEjZZJr66"
      },
      "source": [
        "frinput=[]\n",
        "froutput=[]\n",
        "for seq in sequences_fr:\n",
        "    seqx=seq[:-1]\n",
        "    seqy=seq[1:]\n",
        "    frinput.append(seqx)\n",
        "    froutput.append(seqy)"
      ],
      "id": "sneJEjZZJr66",
      "execution_count": 7,
      "outputs": []
    },
    {
      "cell_type": "code",
      "metadata": {
        "id": "98gCRv4oA-Ds"
      },
      "source": [
        "t1= max([len(w) for w in sequences_en])\n",
        "t2= max([len(w) for w in sequences_fr])\n",
        "maxlen=max([t1,t2])"
      ],
      "id": "98gCRv4oA-Ds",
      "execution_count": 8,
      "outputs": []
    },
    {
      "cell_type": "code",
      "metadata": {
        "id": "78cf69f9"
      },
      "source": [
        "pad_en=tf.keras.preprocessing.sequence.pad_sequences(sequences_en, padding='post',maxlen=maxlen)\n",
        "pad_frinput=tf.keras.preprocessing.sequence.pad_sequences(frinput, padding='post',maxlen=maxlen)\n",
        "pad_froutput=tf.keras.preprocessing.sequence.pad_sequences(froutput, padding='post',maxlen=maxlen)"
      ],
      "id": "78cf69f9",
      "execution_count": 9,
      "outputs": []
    },
    {
      "cell_type": "code",
      "metadata": {
        "id": "qIiPjDH5CMDn"
      },
      "source": [
        "hot_pad_fr=tf.keras.utils.to_categorical(pad_froutput)"
      ],
      "id": "qIiPjDH5CMDn",
      "execution_count": 10,
      "outputs": []
    },
    {
      "cell_type": "code",
      "metadata": {
        "colab": {
          "base_uri": "https://localhost:8080/"
        },
        "id": "Pdw0HJnxCbdU",
        "outputId": "33c7654e-156d-49b2-e8db-709f26c479c2"
      },
      "source": [
        "input= tf.keras.Input((maxlen))\n",
        "embd=tf.keras.layers.Embedding(len(toknizer_en.word_index)+1,7,input_length=maxlen)(input)\n",
        "h0,h1,c=tf.keras.layers.LSTM(200,return_sequences=False,return_state=True)(embd)\n",
        "\n",
        "\n",
        "\n",
        "input2= tf.keras.Input((maxlen))\n",
        "decoder_embedding=tf.keras.layers.Embedding(len(toknizer_fr.word_index)+1,7,input_length=maxlen)(input2)\n",
        "\n",
        "l2=tf.keras.layers.LSTM(200,return_sequences=True)(decoder_embedding, initial_state=[h1,c])\n",
        "\n",
        "d=tf.keras.layers.TimeDistributed(tf.keras.layers.Dense(len(toknizer_fr.word_index)+1\n",
        "                                                        ,activation='softmax'))(l2)\n",
        "model=tf.keras.Model([input,input2],d)\n",
        "model.summary()"
      ],
      "id": "Pdw0HJnxCbdU",
      "execution_count": 46,
      "outputs": [
        {
          "output_type": "stream",
          "name": "stdout",
          "text": [
            "Model: \"model_2\"\n",
            "__________________________________________________________________________________________________\n",
            " Layer (type)                   Output Shape         Param #     Connected to                     \n",
            "==================================================================================================\n",
            " input_9 (InputLayer)           [(None, 23)]         0           []                               \n",
            "                                                                                                  \n",
            " input_10 (InputLayer)          [(None, 23)]         0           []                               \n",
            "                                                                                                  \n",
            " embedding_8 (Embedding)        (None, 23, 7)        1393        ['input_9[0][0]']                \n",
            "                                                                                                  \n",
            " embedding_9 (Embedding)        (None, 23, 7)        2429        ['input_10[0][0]']               \n",
            "                                                                                                  \n",
            " lstm_8 (LSTM)                  [(None, 200),        166400      ['embedding_8[0][0]']            \n",
            "                                 (None, 200),                                                     \n",
            "                                 (None, 200)]                                                     \n",
            "                                                                                                  \n",
            " lstm_9 (LSTM)                  (None, 23, 200)      166400      ['embedding_9[0][0]',            \n",
            "                                                                  'lstm_8[0][1]',                 \n",
            "                                                                  'lstm_8[0][2]']                 \n",
            "                                                                                                  \n",
            " time_distributed_2 (TimeDistri  (None, 23, 347)     69747       ['lstm_9[0][0]']                 \n",
            " buted)                                                                                           \n",
            "                                                                                                  \n",
            "==================================================================================================\n",
            "Total params: 406,369\n",
            "Trainable params: 406,369\n",
            "Non-trainable params: 0\n",
            "__________________________________________________________________________________________________\n"
          ]
        }
      ]
    },
    {
      "cell_type": "code",
      "metadata": {
        "id": "Y-SCs5LKDJ04"
      },
      "source": [
        "model.compile(loss=tf.keras.losses.categorical_crossentropy,optimizer=\n",
        "              tf.keras.optimizers.Adam(0.001))"
      ],
      "id": "Y-SCs5LKDJ04",
      "execution_count": 56,
      "outputs": []
    },
    {
      "cell_type": "code",
      "metadata": {
        "id": "cJJL2XboNC_0"
      },
      "source": [
        "model.fit([pad_en,pad_frinput],hot_pad_fr,epochs=1000,batch_size=16)"
      ],
      "id": "cJJL2XboNC_0",
      "execution_count": null,
      "outputs": []
    },
    {
      "cell_type": "code",
      "metadata": {
        "colab": {
          "base_uri": "https://localhost:8080/"
        },
        "id": "94DN_Hy8NQ62",
        "outputId": "951cede6-5c51-4022-a679-8368c6b3e3e3"
      },
      "source": [
        "\n",
        "\n",
        "r=6000\n",
        "entext=en_sent_clean[r]\n",
        "ground=fr_sent_clean[r]\n",
        "print(entext)\n",
        "print(ground[4:-4])\n",
        "\n",
        "entoken=toknizer_en.texts_to_sequences([entext])\n",
        "entokenpad=tf.keras.preprocessing.sequence.pad_sequences(entoken, padding='post',maxlen=maxlen)\n",
        "\n",
        "frtext='sos'\n",
        "\n",
        "\n",
        "i=0\n",
        "while True:\n",
        "  frtoken=toknizer_fr.texts_to_sequences([frtext])\n",
        "  frtokenpad=tf.keras.preprocessing.sequence.pad_sequences(frtoken, padding='post',maxlen=maxlen)\n",
        "  preds=model.predict([entokenpad,frtokenpad])\n",
        "  index=np.argmax(preds[0,i])\n",
        "  word=list(toknizer_fr.word_index.keys())[list(toknizer_fr.word_index.values()).index(index)]\n",
        "  if word == 'eos':\n",
        "    break\n",
        "  frtext=frtext+' '+word\n",
        "  i+=1\n",
        "print(frtext[4:])"
      ],
      "id": "94DN_Hy8NQ62",
      "execution_count": 93,
      "outputs": [
        {
          "output_type": "stream",
          "name": "stdout",
          "text": [
            "he likes grapes bananas and apples eos\n",
            "il aime les raisins les bananes et les pommes\n",
            "il aime les raisins les bananes et les pommes\n"
          ]
        }
      ]
    },
    {
      "cell_type": "code",
      "metadata": {
        "id": "O9QPch-w3Dlc"
      },
      "source": [
        ""
      ],
      "id": "O9QPch-w3Dlc",
      "execution_count": null,
      "outputs": []
    }
  ]
}