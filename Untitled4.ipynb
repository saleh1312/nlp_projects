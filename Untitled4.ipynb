{
  "nbformat": 4,
  "nbformat_minor": 5,
  "metadata": {
    "kernelspec": {
      "display_name": "Python 3 (ipykernel)",
      "language": "python",
      "name": "python3"
    },
    "language_info": {
      "codemirror_mode": {
        "name": "ipython",
        "version": 3
      },
      "file_extension": ".py",
      "mimetype": "text/x-python",
      "name": "python",
      "nbconvert_exporter": "python",
      "pygments_lexer": "ipython3",
      "version": "3.7.11"
    },
    "colab": {
      "name": "Untitled4.ipynb",
      "provenance": [],
      "collapsed_sections": [],
      "include_colab_link": true
    },
    "accelerator": "GPU"
  },
  "cells": [
    {
      "cell_type": "markdown",
      "metadata": {
        "id": "view-in-github",
        "colab_type": "text"
      },
      "source": [
        "<a href=\"https://colab.research.google.com/github/saleh1312/nlp_projects/blob/main/Untitled4.ipynb\" target=\"_parent\"><img src=\"https://colab.research.google.com/assets/colab-badge.svg\" alt=\"Open In Colab\"/></a>"
      ]
    },
    {
      "cell_type": "code",
      "metadata": {
        "colab": {
          "base_uri": "https://localhost:8080/"
        },
        "id": "VzGidjniX7BJ",
        "outputId": "07466513-0e57-41b5-feeb-ca57a4e1fbf6"
      },
      "source": [
        "from google.colab import drive\n",
        "drive.mount('/content/drive')"
      ],
      "id": "VzGidjniX7BJ",
      "execution_count": null,
      "outputs": [
        {
          "output_type": "stream",
          "name": "stdout",
          "text": [
            "Mounted at /content/drive\n"
          ]
        }
      ]
    },
    {
      "cell_type": "code",
      "metadata": {
        "id": "cbfbdb03",
        "colab": {
          "base_uri": "https://localhost:8080/"
        },
        "outputId": "e9265a8c-05bb-476a-940f-2d9cea29f5c2"
      },
      "source": [
        "import numpy\n",
        "import string\n",
        "import nltk\n",
        "import numpy as np\n",
        "from nltk.tokenize import sent_tokenize, word_tokenize\n",
        "import spacy\n",
        "import tensorflow as tf\n",
        "nltk.download('all')"
      ],
      "id": "cbfbdb03",
      "execution_count": 1,
      "outputs": [
        {
          "output_type": "stream",
          "name": "stdout",
          "text": [
            "[nltk_data] Downloading collection 'all'\n",
            "[nltk_data]    | \n",
            "[nltk_data]    | Downloading package abc to /root/nltk_data...\n",
            "[nltk_data]    |   Package abc is already up-to-date!\n",
            "[nltk_data]    | Downloading package alpino to /root/nltk_data...\n",
            "[nltk_data]    |   Package alpino is already up-to-date!\n",
            "[nltk_data]    | Downloading package biocreative_ppi to\n",
            "[nltk_data]    |     /root/nltk_data...\n",
            "[nltk_data]    |   Package biocreative_ppi is already up-to-date!\n",
            "[nltk_data]    | Downloading package brown to /root/nltk_data...\n",
            "[nltk_data]    |   Package brown is already up-to-date!\n",
            "[nltk_data]    | Downloading package brown_tei to /root/nltk_data...\n",
            "[nltk_data]    |   Package brown_tei is already up-to-date!\n",
            "[nltk_data]    | Downloading package cess_cat to /root/nltk_data...\n",
            "[nltk_data]    |   Package cess_cat is already up-to-date!\n",
            "[nltk_data]    | Downloading package cess_esp to /root/nltk_data...\n",
            "[nltk_data]    |   Package cess_esp is already up-to-date!\n",
            "[nltk_data]    | Downloading package chat80 to /root/nltk_data...\n",
            "[nltk_data]    |   Package chat80 is already up-to-date!\n",
            "[nltk_data]    | Downloading package city_database to\n",
            "[nltk_data]    |     /root/nltk_data...\n",
            "[nltk_data]    |   Package city_database is already up-to-date!\n",
            "[nltk_data]    | Downloading package cmudict to /root/nltk_data...\n",
            "[nltk_data]    |   Package cmudict is already up-to-date!\n",
            "[nltk_data]    | Downloading package comparative_sentences to\n",
            "[nltk_data]    |     /root/nltk_data...\n",
            "[nltk_data]    |   Package comparative_sentences is already up-to-\n",
            "[nltk_data]    |       date!\n",
            "[nltk_data]    | Downloading package comtrans to /root/nltk_data...\n",
            "[nltk_data]    |   Package comtrans is already up-to-date!\n",
            "[nltk_data]    | Downloading package conll2000 to /root/nltk_data...\n",
            "[nltk_data]    |   Package conll2000 is already up-to-date!\n",
            "[nltk_data]    | Downloading package conll2002 to /root/nltk_data...\n",
            "[nltk_data]    |   Package conll2002 is already up-to-date!\n",
            "[nltk_data]    | Downloading package conll2007 to /root/nltk_data...\n",
            "[nltk_data]    |   Package conll2007 is already up-to-date!\n",
            "[nltk_data]    | Downloading package crubadan to /root/nltk_data...\n",
            "[nltk_data]    |   Package crubadan is already up-to-date!\n",
            "[nltk_data]    | Downloading package dependency_treebank to\n",
            "[nltk_data]    |     /root/nltk_data...\n",
            "[nltk_data]    |   Package dependency_treebank is already up-to-date!\n",
            "[nltk_data]    | Downloading package dolch to /root/nltk_data...\n",
            "[nltk_data]    |   Package dolch is already up-to-date!\n",
            "[nltk_data]    | Downloading package europarl_raw to\n",
            "[nltk_data]    |     /root/nltk_data...\n",
            "[nltk_data]    |   Package europarl_raw is already up-to-date!\n",
            "[nltk_data]    | Downloading package floresta to /root/nltk_data...\n",
            "[nltk_data]    |   Package floresta is already up-to-date!\n",
            "[nltk_data]    | Downloading package framenet_v15 to\n",
            "[nltk_data]    |     /root/nltk_data...\n",
            "[nltk_data]    |   Package framenet_v15 is already up-to-date!\n",
            "[nltk_data]    | Downloading package framenet_v17 to\n",
            "[nltk_data]    |     /root/nltk_data...\n",
            "[nltk_data]    |   Package framenet_v17 is already up-to-date!\n",
            "[nltk_data]    | Downloading package gazetteers to /root/nltk_data...\n",
            "[nltk_data]    |   Package gazetteers is already up-to-date!\n",
            "[nltk_data]    | Downloading package genesis to /root/nltk_data...\n",
            "[nltk_data]    |   Package genesis is already up-to-date!\n",
            "[nltk_data]    | Downloading package gutenberg to /root/nltk_data...\n",
            "[nltk_data]    |   Package gutenberg is already up-to-date!\n",
            "[nltk_data]    | Downloading package ieer to /root/nltk_data...\n",
            "[nltk_data]    |   Package ieer is already up-to-date!\n",
            "[nltk_data]    | Downloading package inaugural to /root/nltk_data...\n",
            "[nltk_data]    |   Package inaugural is already up-to-date!\n",
            "[nltk_data]    | Downloading package indian to /root/nltk_data...\n",
            "[nltk_data]    |   Package indian is already up-to-date!\n",
            "[nltk_data]    | Downloading package jeita to /root/nltk_data...\n",
            "[nltk_data]    |   Package jeita is already up-to-date!\n",
            "[nltk_data]    | Downloading package kimmo to /root/nltk_data...\n",
            "[nltk_data]    |   Package kimmo is already up-to-date!\n",
            "[nltk_data]    | Downloading package knbc to /root/nltk_data...\n",
            "[nltk_data]    |   Package knbc is already up-to-date!\n",
            "[nltk_data]    | Downloading package lin_thesaurus to\n",
            "[nltk_data]    |     /root/nltk_data...\n",
            "[nltk_data]    |   Package lin_thesaurus is already up-to-date!\n",
            "[nltk_data]    | Downloading package mac_morpho to /root/nltk_data...\n",
            "[nltk_data]    |   Package mac_morpho is already up-to-date!\n",
            "[nltk_data]    | Downloading package machado to /root/nltk_data...\n",
            "[nltk_data]    |   Package machado is already up-to-date!\n",
            "[nltk_data]    | Downloading package masc_tagged to /root/nltk_data...\n",
            "[nltk_data]    |   Package masc_tagged is already up-to-date!\n",
            "[nltk_data]    | Downloading package moses_sample to\n",
            "[nltk_data]    |     /root/nltk_data...\n",
            "[nltk_data]    |   Package moses_sample is already up-to-date!\n",
            "[nltk_data]    | Downloading package movie_reviews to\n",
            "[nltk_data]    |     /root/nltk_data...\n",
            "[nltk_data]    |   Package movie_reviews is already up-to-date!\n",
            "[nltk_data]    | Downloading package names to /root/nltk_data...\n",
            "[nltk_data]    |   Package names is already up-to-date!\n",
            "[nltk_data]    | Downloading package nombank.1.0 to /root/nltk_data...\n",
            "[nltk_data]    |   Package nombank.1.0 is already up-to-date!\n",
            "[nltk_data]    | Downloading package nps_chat to /root/nltk_data...\n",
            "[nltk_data]    |   Package nps_chat is already up-to-date!\n",
            "[nltk_data]    | Downloading package omw to /root/nltk_data...\n",
            "[nltk_data]    |   Package omw is already up-to-date!\n",
            "[nltk_data]    | Downloading package opinion_lexicon to\n",
            "[nltk_data]    |     /root/nltk_data...\n",
            "[nltk_data]    |   Package opinion_lexicon is already up-to-date!\n",
            "[nltk_data]    | Downloading package paradigms to /root/nltk_data...\n",
            "[nltk_data]    |   Package paradigms is already up-to-date!\n",
            "[nltk_data]    | Downloading package pil to /root/nltk_data...\n",
            "[nltk_data]    |   Package pil is already up-to-date!\n",
            "[nltk_data]    | Downloading package pl196x to /root/nltk_data...\n",
            "[nltk_data]    |   Package pl196x is already up-to-date!\n",
            "[nltk_data]    | Downloading package ppattach to /root/nltk_data...\n",
            "[nltk_data]    |   Package ppattach is already up-to-date!\n",
            "[nltk_data]    | Downloading package problem_reports to\n",
            "[nltk_data]    |     /root/nltk_data...\n",
            "[nltk_data]    |   Package problem_reports is already up-to-date!\n",
            "[nltk_data]    | Downloading package propbank to /root/nltk_data...\n",
            "[nltk_data]    |   Package propbank is already up-to-date!\n",
            "[nltk_data]    | Downloading package ptb to /root/nltk_data...\n",
            "[nltk_data]    |   Package ptb is already up-to-date!\n",
            "[nltk_data]    | Downloading package product_reviews_1 to\n",
            "[nltk_data]    |     /root/nltk_data...\n",
            "[nltk_data]    |   Package product_reviews_1 is already up-to-date!\n",
            "[nltk_data]    | Downloading package product_reviews_2 to\n",
            "[nltk_data]    |     /root/nltk_data...\n",
            "[nltk_data]    |   Package product_reviews_2 is already up-to-date!\n",
            "[nltk_data]    | Downloading package pros_cons to /root/nltk_data...\n",
            "[nltk_data]    |   Package pros_cons is already up-to-date!\n",
            "[nltk_data]    | Downloading package qc to /root/nltk_data...\n",
            "[nltk_data]    |   Package qc is already up-to-date!\n",
            "[nltk_data]    | Downloading package reuters to /root/nltk_data...\n",
            "[nltk_data]    |   Package reuters is already up-to-date!\n",
            "[nltk_data]    | Downloading package rte to /root/nltk_data...\n",
            "[nltk_data]    |   Package rte is already up-to-date!\n",
            "[nltk_data]    | Downloading package semcor to /root/nltk_data...\n",
            "[nltk_data]    |   Package semcor is already up-to-date!\n",
            "[nltk_data]    | Downloading package senseval to /root/nltk_data...\n",
            "[nltk_data]    |   Package senseval is already up-to-date!\n",
            "[nltk_data]    | Downloading package sentiwordnet to\n",
            "[nltk_data]    |     /root/nltk_data...\n",
            "[nltk_data]    |   Package sentiwordnet is already up-to-date!\n",
            "[nltk_data]    | Downloading package sentence_polarity to\n",
            "[nltk_data]    |     /root/nltk_data...\n",
            "[nltk_data]    |   Package sentence_polarity is already up-to-date!\n",
            "[nltk_data]    | Downloading package shakespeare to /root/nltk_data...\n",
            "[nltk_data]    |   Package shakespeare is already up-to-date!\n",
            "[nltk_data]    | Downloading package sinica_treebank to\n",
            "[nltk_data]    |     /root/nltk_data...\n",
            "[nltk_data]    |   Package sinica_treebank is already up-to-date!\n",
            "[nltk_data]    | Downloading package smultron to /root/nltk_data...\n",
            "[nltk_data]    |   Package smultron is already up-to-date!\n",
            "[nltk_data]    | Downloading package state_union to /root/nltk_data...\n",
            "[nltk_data]    |   Package state_union is already up-to-date!\n",
            "[nltk_data]    | Downloading package stopwords to /root/nltk_data...\n",
            "[nltk_data]    |   Package stopwords is already up-to-date!\n",
            "[nltk_data]    | Downloading package subjectivity to\n",
            "[nltk_data]    |     /root/nltk_data...\n",
            "[nltk_data]    |   Package subjectivity is already up-to-date!\n",
            "[nltk_data]    | Downloading package swadesh to /root/nltk_data...\n",
            "[nltk_data]    |   Package swadesh is already up-to-date!\n",
            "[nltk_data]    | Downloading package switchboard to /root/nltk_data...\n",
            "[nltk_data]    |   Package switchboard is already up-to-date!\n",
            "[nltk_data]    | Downloading package timit to /root/nltk_data...\n",
            "[nltk_data]    |   Package timit is already up-to-date!\n",
            "[nltk_data]    | Downloading package toolbox to /root/nltk_data...\n",
            "[nltk_data]    |   Package toolbox is already up-to-date!\n",
            "[nltk_data]    | Downloading package treebank to /root/nltk_data...\n",
            "[nltk_data]    |   Package treebank is already up-to-date!\n",
            "[nltk_data]    | Downloading package twitter_samples to\n",
            "[nltk_data]    |     /root/nltk_data...\n",
            "[nltk_data]    |   Package twitter_samples is already up-to-date!\n",
            "[nltk_data]    | Downloading package udhr to /root/nltk_data...\n",
            "[nltk_data]    |   Package udhr is already up-to-date!\n",
            "[nltk_data]    | Downloading package udhr2 to /root/nltk_data...\n",
            "[nltk_data]    |   Package udhr2 is already up-to-date!\n",
            "[nltk_data]    | Downloading package unicode_samples to\n",
            "[nltk_data]    |     /root/nltk_data...\n",
            "[nltk_data]    |   Package unicode_samples is already up-to-date!\n",
            "[nltk_data]    | Downloading package universal_treebanks_v20 to\n",
            "[nltk_data]    |     /root/nltk_data...\n",
            "[nltk_data]    |   Package universal_treebanks_v20 is already up-to-\n",
            "[nltk_data]    |       date!\n",
            "[nltk_data]    | Downloading package verbnet to /root/nltk_data...\n",
            "[nltk_data]    |   Package verbnet is already up-to-date!\n",
            "[nltk_data]    | Downloading package verbnet3 to /root/nltk_data...\n",
            "[nltk_data]    |   Package verbnet3 is already up-to-date!\n",
            "[nltk_data]    | Downloading package webtext to /root/nltk_data...\n",
            "[nltk_data]    |   Package webtext is already up-to-date!\n",
            "[nltk_data]    | Downloading package wordnet to /root/nltk_data...\n",
            "[nltk_data]    |   Package wordnet is already up-to-date!\n",
            "[nltk_data]    | Downloading package wordnet31 to /root/nltk_data...\n",
            "[nltk_data]    |   Package wordnet31 is already up-to-date!\n",
            "[nltk_data]    | Downloading package wordnet_ic to /root/nltk_data...\n",
            "[nltk_data]    |   Package wordnet_ic is already up-to-date!\n",
            "[nltk_data]    | Downloading package words to /root/nltk_data...\n",
            "[nltk_data]    |   Package words is already up-to-date!\n",
            "[nltk_data]    | Downloading package ycoe to /root/nltk_data...\n",
            "[nltk_data]    |   Package ycoe is already up-to-date!\n",
            "[nltk_data]    | Downloading package rslp to /root/nltk_data...\n",
            "[nltk_data]    |   Package rslp is already up-to-date!\n",
            "[nltk_data]    | Downloading package maxent_treebank_pos_tagger to\n",
            "[nltk_data]    |     /root/nltk_data...\n",
            "[nltk_data]    |   Package maxent_treebank_pos_tagger is already up-\n",
            "[nltk_data]    |       to-date!\n",
            "[nltk_data]    | Downloading package universal_tagset to\n",
            "[nltk_data]    |     /root/nltk_data...\n",
            "[nltk_data]    |   Package universal_tagset is already up-to-date!\n",
            "[nltk_data]    | Downloading package maxent_ne_chunker to\n",
            "[nltk_data]    |     /root/nltk_data...\n",
            "[nltk_data]    |   Package maxent_ne_chunker is already up-to-date!\n",
            "[nltk_data]    | Downloading package punkt to /root/nltk_data...\n",
            "[nltk_data]    |   Package punkt is already up-to-date!\n",
            "[nltk_data]    | Downloading package book_grammars to\n",
            "[nltk_data]    |     /root/nltk_data...\n",
            "[nltk_data]    |   Package book_grammars is already up-to-date!\n",
            "[nltk_data]    | Downloading package sample_grammars to\n",
            "[nltk_data]    |     /root/nltk_data...\n",
            "[nltk_data]    |   Package sample_grammars is already up-to-date!\n",
            "[nltk_data]    | Downloading package spanish_grammars to\n",
            "[nltk_data]    |     /root/nltk_data...\n",
            "[nltk_data]    |   Package spanish_grammars is already up-to-date!\n",
            "[nltk_data]    | Downloading package basque_grammars to\n",
            "[nltk_data]    |     /root/nltk_data...\n",
            "[nltk_data]    |   Package basque_grammars is already up-to-date!\n",
            "[nltk_data]    | Downloading package large_grammars to\n",
            "[nltk_data]    |     /root/nltk_data...\n",
            "[nltk_data]    |   Package large_grammars is already up-to-date!\n",
            "[nltk_data]    | Downloading package tagsets to /root/nltk_data...\n",
            "[nltk_data]    |   Package tagsets is already up-to-date!\n",
            "[nltk_data]    | Downloading package snowball_data to\n",
            "[nltk_data]    |     /root/nltk_data...\n",
            "[nltk_data]    |   Package snowball_data is already up-to-date!\n",
            "[nltk_data]    | Downloading package bllip_wsj_no_aux to\n",
            "[nltk_data]    |     /root/nltk_data...\n",
            "[nltk_data]    |   Package bllip_wsj_no_aux is already up-to-date!\n",
            "[nltk_data]    | Downloading package word2vec_sample to\n",
            "[nltk_data]    |     /root/nltk_data...\n",
            "[nltk_data]    |   Package word2vec_sample is already up-to-date!\n",
            "[nltk_data]    | Downloading package panlex_swadesh to\n",
            "[nltk_data]    |     /root/nltk_data...\n",
            "[nltk_data]    |   Package panlex_swadesh is already up-to-date!\n",
            "[nltk_data]    | Downloading package mte_teip5 to /root/nltk_data...\n",
            "[nltk_data]    |   Package mte_teip5 is already up-to-date!\n",
            "[nltk_data]    | Downloading package averaged_perceptron_tagger to\n",
            "[nltk_data]    |     /root/nltk_data...\n",
            "[nltk_data]    |   Package averaged_perceptron_tagger is already up-\n",
            "[nltk_data]    |       to-date!\n",
            "[nltk_data]    | Downloading package averaged_perceptron_tagger_ru to\n",
            "[nltk_data]    |     /root/nltk_data...\n",
            "[nltk_data]    |   Package averaged_perceptron_tagger_ru is already\n",
            "[nltk_data]    |       up-to-date!\n",
            "[nltk_data]    | Downloading package perluniprops to\n",
            "[nltk_data]    |     /root/nltk_data...\n",
            "[nltk_data]    |   Package perluniprops is already up-to-date!\n",
            "[nltk_data]    | Downloading package nonbreaking_prefixes to\n",
            "[nltk_data]    |     /root/nltk_data...\n",
            "[nltk_data]    |   Package nonbreaking_prefixes is already up-to-date!\n",
            "[nltk_data]    | Downloading package vader_lexicon to\n",
            "[nltk_data]    |     /root/nltk_data...\n",
            "[nltk_data]    |   Package vader_lexicon is already up-to-date!\n",
            "[nltk_data]    | Downloading package porter_test to /root/nltk_data...\n",
            "[nltk_data]    |   Package porter_test is already up-to-date!\n",
            "[nltk_data]    | Downloading package wmt15_eval to /root/nltk_data...\n",
            "[nltk_data]    |   Package wmt15_eval is already up-to-date!\n",
            "[nltk_data]    | Downloading package mwa_ppdb to /root/nltk_data...\n",
            "[nltk_data]    |   Package mwa_ppdb is already up-to-date!\n",
            "[nltk_data]    | \n",
            "[nltk_data]  Done downloading collection all\n"
          ]
        },
        {
          "output_type": "execute_result",
          "data": {
            "text/plain": [
              "True"
            ]
          },
          "metadata": {},
          "execution_count": 1
        }
      ]
    },
    {
      "cell_type": "code",
      "metadata": {
        "id": "f2c3ec09"
      },
      "source": [
        "with open(r\"/content/drive/MyDrive/data/small_vocab_en.txt\", \"r\") as f:\n",
        "    en_sent=f.read().split('\\n')\n",
        "\n",
        "with open(r\"/content/drive/MyDrive/data/small_vocab_fr.txt\", \"r\") as f:\n",
        "    fr_sent=f.read().split('\\n')\n"
      ],
      "id": "f2c3ec09",
      "execution_count": 2,
      "outputs": []
    },
    {
      "cell_type": "code",
      "metadata": {
        "id": "90ef9327"
      },
      "source": [
        "en_sent_clean=[]\n",
        "for sent in en_sent:\n",
        "    word_tok=word_tokenize(sent,'english')\n",
        "    new_word=[]\n",
        "    for token in word_tok:\n",
        "        if token not in string.punctuation:\n",
        "            new_word.append(token)\n",
        "    en_sent_clean.append((' '.join(new_word)).lower()+' eos')"
      ],
      "id": "90ef9327",
      "execution_count": 3,
      "outputs": []
    },
    {
      "cell_type": "code",
      "metadata": {
        "colab": {
          "base_uri": "https://localhost:8080/"
        },
        "id": "vv4jrpDI8HaT",
        "outputId": "8a048f4f-a5ab-436a-eaa0-b2d23986426a"
      },
      "source": [
        "en_sent_clean[:3]"
      ],
      "id": "vv4jrpDI8HaT",
      "execution_count": 4,
      "outputs": [
        {
          "output_type": "execute_result",
          "data": {
            "text/plain": [
              "['new jersey is sometimes quiet during autumn and it is snowy in april eos',\n",
              " 'the united states is usually chilly during july and it is usually freezing in november eos',\n",
              " 'california is usually quiet during march and it is usually hot in june eos']"
            ]
          },
          "metadata": {},
          "execution_count": 4
        }
      ]
    },
    {
      "cell_type": "code",
      "metadata": {
        "id": "ff98b4b8"
      },
      "source": [
        "fr_sent_clean=[]\n",
        "for sent in fr_sent:\n",
        "    word_tok=word_tokenize(sent,'french')\n",
        "    new_word=[]\n",
        "    for token in word_tok:\n",
        "        if token not in string.punctuation:\n",
        "            new_word.append(token)\n",
        "    fr_sent_clean.append('sos '+((' '.join(new_word)).lower()+' eos'))"
      ],
      "id": "ff98b4b8",
      "execution_count": 5,
      "outputs": []
    },
    {
      "cell_type": "code",
      "metadata": {
        "colab": {
          "base_uri": "https://localhost:8080/"
        },
        "id": "C19Bh08p8Lfn",
        "outputId": "96ae4e60-3f92-4e47-d25f-2a67a2a31aaa"
      },
      "source": [
        "fr_sent_clean[:3]"
      ],
      "id": "C19Bh08p8Lfn",
      "execution_count": 6,
      "outputs": [
        {
          "output_type": "execute_result",
          "data": {
            "text/plain": [
              "['sos new jersey est parfois calme pendant l automne et il est neigeux en avril eos',\n",
              " 'sos les états-unis est généralement froid en juillet et il gèle habituellement en novembre eos',\n",
              " 'sos california est généralement calme en mars et il est généralement chaud en juin eos']"
            ]
          },
          "metadata": {},
          "execution_count": 6
        }
      ]
    },
    {
      "cell_type": "code",
      "metadata": {
        "id": "67keSUzHfgb-"
      },
      "source": [
        "del en_sent\n",
        "del fr_sent"
      ],
      "id": "67keSUzHfgb-",
      "execution_count": 7,
      "outputs": []
    },
    {
      "cell_type": "code",
      "metadata": {
        "id": "9dee254d"
      },
      "source": [
        "toknizer_en  = tf.keras.preprocessing.text.Tokenizer()\n",
        "toknizer_en.fit_on_texts(en_sent_clean)\n",
        "sequences_en = toknizer_en.texts_to_sequences(en_sent_clean)"
      ],
      "id": "9dee254d",
      "execution_count": 8,
      "outputs": []
    },
    {
      "cell_type": "code",
      "metadata": {
        "id": "2a5e3630"
      },
      "source": [
        "toknizer_fr  = tf.keras.preprocessing.text.Tokenizer()\n",
        "toknizer_fr.fit_on_texts(fr_sent_clean)\n",
        "sequences_fr = toknizer_fr.texts_to_sequences(fr_sent_clean)"
      ],
      "id": "2a5e3630",
      "execution_count": 9,
      "outputs": []
    },
    {
      "cell_type": "code",
      "metadata": {
        "colab": {
          "base_uri": "https://localhost:8080/"
        },
        "id": "pMQVRqsj8RGf",
        "outputId": "92fb543c-c152-47e0-d926-c5a2cef6349e"
      },
      "source": [
        "sequences_en[:3]"
      ],
      "id": "pMQVRqsj8RGf",
      "execution_count": 10,
      "outputs": [
        {
          "output_type": "execute_result",
          "data": {
            "text/plain": [
              "[[18, 24, 1, 9, 68, 5, 40, 8, 4, 1, 56, 3, 45, 2],\n",
              " [6, 21, 22, 1, 10, 63, 5, 44, 8, 4, 1, 10, 52, 3, 46, 2],\n",
              " [23, 1, 10, 68, 5, 39, 8, 4, 1, 10, 69, 3, 35, 2]]"
            ]
          },
          "metadata": {},
          "execution_count": 10
        }
      ]
    },
    {
      "cell_type": "code",
      "metadata": {
        "colab": {
          "base_uri": "https://localhost:8080/"
        },
        "id": "bVL55PwF8S3A",
        "outputId": "07cc110a-7797-4b8a-a669-d703a2de4923"
      },
      "source": [
        "sequences_fr[:3]"
      ],
      "id": "bVL55PwF8S3A",
      "execution_count": 11,
      "outputs": [
        {
          "output_type": "execute_result",
          "data": {
            "text/plain": [
              "[[2, 37, 36, 1, 10, 69, 39, 13, 26, 8, 5, 1, 114, 4, 52, 3],\n",
              " [2, 6, 34, 33, 1, 14, 21, 4, 51, 8, 5, 97, 71, 4, 53, 3],\n",
              " [2, 103, 1, 14, 69, 4, 47, 8, 5, 1, 14, 23, 4, 43, 3]]"
            ]
          },
          "metadata": {},
          "execution_count": 11
        }
      ]
    },
    {
      "cell_type": "code",
      "metadata": {
        "id": "sneJEjZZJr66"
      },
      "source": [
        "frinput=[]\n",
        "froutput=[]\n",
        "for seq in sequences_fr:\n",
        "    seqx=seq[:-1]\n",
        "    seqy=seq[1:]\n",
        "    frinput.append(seqx)\n",
        "    froutput.append(seqy)"
      ],
      "id": "sneJEjZZJr66",
      "execution_count": 12,
      "outputs": []
    },
    {
      "cell_type": "code",
      "metadata": {
        "id": "98gCRv4oA-Ds"
      },
      "source": [
        "t1= max([len(w) for w in sequences_en])\n",
        "t2= max([len(w) for w in sequences_fr])\n",
        "maxlen=max([t1,t2])"
      ],
      "id": "98gCRv4oA-Ds",
      "execution_count": 13,
      "outputs": []
    },
    {
      "cell_type": "code",
      "metadata": {
        "id": "78cf69f9"
      },
      "source": [
        "pad_en=tf.keras.preprocessing.sequence.pad_sequences(sequences_en, padding='post',maxlen=maxlen)\n",
        "pad_frinput=tf.keras.preprocessing.sequence.pad_sequences(frinput, padding='post',maxlen=maxlen)\n",
        "pad_froutput=tf.keras.preprocessing.sequence.pad_sequences(froutput, padding='post',maxlen=maxlen)"
      ],
      "id": "78cf69f9",
      "execution_count": 14,
      "outputs": []
    },
    {
      "cell_type": "code",
      "metadata": {
        "id": "qIiPjDH5CMDn"
      },
      "source": [
        "hot_pad_fr=tf.keras.utils.to_categorical(pad_froutput)"
      ],
      "id": "qIiPjDH5CMDn",
      "execution_count": 15,
      "outputs": []
    },
    {
      "cell_type": "code",
      "metadata": {
        "id": "y0sfkwNZ496-"
      },
      "source": [
        "from sklearn.model_selection import train_test_split\n",
        "#[pad_en,pad_frinput],hot_pad_fr\n",
        "xt1,xs1,xt2,xs2,yt1,ys1=train_test_split(pad_en,pad_frinput,hot_pad_fr, test_size=0.1)"
      ],
      "id": "y0sfkwNZ496-",
      "execution_count": 16,
      "outputs": []
    },
    {
      "cell_type": "code",
      "metadata": {
        "id": "DTRYjPt-gFv-"
      },
      "source": [
        "del hot_pad_fr\n",
        "del pad_frinput\n",
        "del pad_en"
      ],
      "id": "DTRYjPt-gFv-",
      "execution_count": 17,
      "outputs": []
    },
    {
      "cell_type": "code",
      "metadata": {
        "colab": {
          "base_uri": "https://localhost:8080/"
        },
        "id": "LF4xH7aXkg6d",
        "outputId": "06aaf59d-269d-4cfb-8965-e065fc5d2048"
      },
      "source": [
        "import gc\n",
        "gc.collect()"
      ],
      "id": "LF4xH7aXkg6d",
      "execution_count": 30,
      "outputs": [
        {
          "output_type": "execute_result",
          "data": {
            "text/plain": [
              "18064"
            ]
          },
          "metadata": {},
          "execution_count": 30
        }
      ]
    },
    {
      "cell_type": "code",
      "metadata": {
        "colab": {
          "base_uri": "https://localhost:8080/"
        },
        "id": "Pdw0HJnxCbdU",
        "outputId": "9bb0483a-91da-46b4-a00f-f33f9f5c6458"
      },
      "source": [
        "input= tf.keras.Input((maxlen))\n",
        "embd=tf.keras.layers.Embedding(len(toknizer_en.word_index)+1,7,input_length=maxlen)(input)\n",
        "h0,h1,c=tf.keras.layers.LSTM(100,return_sequences=True,return_state=True)(embd)\n",
        "\n",
        "\n",
        "\n",
        "input2= tf.keras.Input((maxlen))\n",
        "decoder_embedding=tf.keras.layers.Embedding(len(toknizer_fr.word_index)+1,7,input_length=maxlen)(input2)\n",
        "\n",
        "decoder_out=tf.keras.layers.LSTM(100,return_sequences=True)(decoder_embedding, initial_state=[h1,c])\n",
        "\n",
        "attn_out, attn_states = tf.keras.layers.Attention()(\n",
        "    [decoder_out, h0],return_attention_scores=True)\n",
        "\n",
        "soft=tf.keras.layers.Softmax(axis=-1)(attn_states)\n",
        "\n",
        "\n",
        "\n",
        "decoder_concat_input = tf.keras.layers.Concatenate(axis=-1, name='concat_layer')([decoder_out, attn_out])\n",
        "\n",
        "d=tf.keras.layers.TimeDistributed(tf.keras.layers.Dense(len(toknizer_fr.word_index)+1\n",
        "                                                        ,activation='softmax'))(decoder_concat_input)\n",
        "model=tf.keras.Model([input,input2],d)\n",
        "model2=tf.keras.Model([input,input2],[d,soft])\n",
        "model2.summary()"
      ],
      "id": "Pdw0HJnxCbdU",
      "execution_count": 19,
      "outputs": [
        {
          "output_type": "stream",
          "name": "stdout",
          "text": [
            "Model: \"model_1\"\n",
            "__________________________________________________________________________________________________\n",
            " Layer (type)                   Output Shape         Param #     Connected to                     \n",
            "==================================================================================================\n",
            " input_1 (InputLayer)           [(None, 23)]         0           []                               \n",
            "                                                                                                  \n",
            " input_2 (InputLayer)           [(None, 23)]         0           []                               \n",
            "                                                                                                  \n",
            " embedding (Embedding)          (None, 23, 7)        1393        ['input_1[0][0]']                \n",
            "                                                                                                  \n",
            " embedding_1 (Embedding)        (None, 23, 7)        2429        ['input_2[0][0]']                \n",
            "                                                                                                  \n",
            " lstm (LSTM)                    [(None, 23, 100),    43200       ['embedding[0][0]']              \n",
            "                                 (None, 100),                                                     \n",
            "                                 (None, 100)]                                                     \n",
            "                                                                                                  \n",
            " lstm_1 (LSTM)                  (None, 23, 100)      43200       ['embedding_1[0][0]',            \n",
            "                                                                  'lstm[0][1]',                   \n",
            "                                                                  'lstm[0][2]']                   \n",
            "                                                                                                  \n",
            " attention (Attention)          ((None, 23, 100),    0           ['lstm_1[0][0]',                 \n",
            "                                 (None, 23, 23))                  'lstm[0][0]']                   \n",
            "                                                                                                  \n",
            " concat_layer (Concatenate)     (None, 23, 200)      0           ['lstm_1[0][0]',                 \n",
            "                                                                  'attention[0][0]']              \n",
            "                                                                                                  \n",
            " time_distributed (TimeDistribu  (None, 23, 347)     69747       ['concat_layer[0][0]']           \n",
            " ted)                                                                                             \n",
            "                                                                                                  \n",
            " softmax (Softmax)              (None, 23, 23)       0           ['attention[0][1]']              \n",
            "                                                                                                  \n",
            "==================================================================================================\n",
            "Total params: 159,969\n",
            "Trainable params: 159,969\n",
            "Non-trainable params: 0\n",
            "__________________________________________________________________________________________________\n"
          ]
        }
      ]
    },
    {
      "cell_type": "code",
      "metadata": {
        "id": "Y-SCs5LKDJ04"
      },
      "source": [
        "\n",
        "model.compile(loss=tf.keras.losses.categorical_crossentropy,optimizer=\n",
        "              tf.keras.optimizers.Adam(0.001))\n",
        "\n",
        "model2.compile(loss=tf.keras.losses.categorical_crossentropy,optimizer=\n",
        "              tf.keras.optimizers.Adam(0.001))"
      ],
      "id": "Y-SCs5LKDJ04",
      "execution_count": 20,
      "outputs": []
    },
    {
      "cell_type": "code",
      "metadata": {
        "id": "cJJL2XboNC_0"
      },
      "source": [
        "xt1,xs1,xt2,xs2,yt1,ys1\n",
        "model.fit([xt1,xt2],yt1,epochs=100,batch_size=32,validation_data=\n",
        "          ([xs1,xs2],ys1))"
      ],
      "id": "cJJL2XboNC_0",
      "execution_count": null,
      "outputs": []
    },
    {
      "cell_type": "code",
      "metadata": {
        "id": "JRXuTb3ehGwp"
      },
      "source": [
        "model2.save('/content/drive/MyDrive/modeldd.h5')"
      ],
      "id": "JRXuTb3ehGwp",
      "execution_count": 32,
      "outputs": []
    },
    {
      "cell_type": "code",
      "metadata": {
        "colab": {
          "base_uri": "https://localhost:8080/",
          "height": 594
        },
        "id": "94DN_Hy8NQ62",
        "outputId": "cc136a7d-f1d5-41b7-bee9-cf5203a6735e"
      },
      "source": [
        "\n",
        "\n",
        "r=np.random.randint(0,len(en_sent_clean)-1)\n",
        "entext=en_sent_clean[r]\n",
        "ground=fr_sent_clean[r]\n",
        "print(entext)\n",
        "print(ground)\n",
        "\n",
        "\n",
        "entoken=toknizer_en.texts_to_sequences([entext])\n",
        "entokenpad=tf.keras.preprocessing.sequence.pad_sequences(entoken, padding='post',maxlen=maxlen)\n",
        "\n",
        "frtext='sos'\n",
        "i=0\n",
        "attnsion=[]\n",
        "while True:\n",
        "  frtoken=toknizer_fr.texts_to_sequences([frtext])\n",
        "  frtokenpad=tf.keras.preprocessing.sequence.pad_sequences(frtoken, padding='post',maxlen=maxlen)\n",
        "  preds,attn=model2.predict([entokenpad,frtokenpad])\n",
        "  word_attn=attn[0,i]\n",
        "  index=np.argmax(preds[0,i])\n",
        "  word=list(toknizer_fr.word_index.keys())[list(toknizer_fr.word_index.values()).index(index)]\n",
        "  if word == 'eos':\n",
        "    frtext=frtext+' '+'eos'\n",
        "    attnsion.append(word_attn.tolist())\n",
        "    break\n",
        "  frtext=frtext+' '+word\n",
        "  attnsion.append(word_attn.tolist())\n",
        "  i+=1\n",
        "print(frtext)\n",
        "att_n=np.array(attnsion)\n",
        "entextpad= entext.split()\n",
        "\n",
        "while True:\n",
        "  if len( entextpad ) != maxlen:\n",
        "    entextpad.append(' <pad>')\n",
        "  else:\n",
        "    break\n",
        "\n",
        "from plotly.offline import init_notebook_mode, iplot\n",
        "import plotly.graph_objects as go\n",
        "init_notebook_mode(connected=True)\n",
        "xmin=10\n",
        "fig = go.Figure(data=go.Heatmap(\n",
        "                    z=att_n,\n",
        "                    x=entextpad,\n",
        "                    y=frtext.split()[1:]))\n",
        "fig['layout'].update(plot_bgcolor='black')\n",
        "fig.show()"
      ],
      "id": "94DN_Hy8NQ62",
      "execution_count": 37,
      "outputs": [
        {
          "output_type": "stream",
          "name": "stdout",
          "text": [
            "new jersey is never mild during spring and it is pleasant in april eos\n",
            "sos new jersey est jamais doux au printemps et il est agréable en avril eos\n",
            "sos new jersey est jamais doux au printemps et il est agréable en avril eos\n"
          ]
        },
        {
          "output_type": "display_data",
          "data": {
            "text/html": [
              "        <script type=\"text/javascript\">\n",
              "        window.PlotlyConfig = {MathJaxConfig: 'local'};\n",
              "        if (window.MathJax) {MathJax.Hub.Config({SVG: {font: \"STIX-Web\"}});}\n",
              "        if (typeof require !== 'undefined') {\n",
              "        require.undef(\"plotly\");\n",
              "        requirejs.config({\n",
              "            paths: {\n",
              "                'plotly': ['https://cdn.plot.ly/plotly-latest.min']\n",
              "            }\n",
              "        });\n",
              "        require(['plotly'], function(Plotly) {\n",
              "            window._Plotly = Plotly;\n",
              "        });\n",
              "        }\n",
              "        </script>\n",
              "        "
            ]
          },
          "metadata": {}
        },
        {
          "output_type": "display_data",
          "data": {
            "text/html": [
              "<div>\n",
              "        \n",
              "        \n",
              "            <div id=\"c0d9c337-cdba-4657-bfe4-5033108a2b99\" class=\"plotly-graph-div\" style=\"height:525px; width:100%;\"></div>\n",
              "            <script type=\"text/javascript\">\n",
              "                require([\"plotly\"], function(Plotly) {\n",
              "                    window.PLOTLYENV=window.PLOTLYENV || {};\n",
              "                    \n",
              "                if (document.getElementById(\"c0d9c337-cdba-4657-bfe4-5033108a2b99\")) {\n",
              "                    Plotly.newPlot(\n",
              "                        'c0d9c337-cdba-4657-bfe4-5033108a2b99',\n",
              "                        [{\"type\": \"heatmap\", \"x\": [\"new\", \"jersey\", \"is\", \"never\", \"mild\", \"during\", \"spring\", \"and\", \"it\", \"is\", \"pleasant\", \"in\", \"april\", \"eos\", \" <pad>\", \" <pad>\", \" <pad>\", \" <pad>\", \" <pad>\", \" <pad>\", \" <pad>\", \" <pad>\", \" <pad>\"], \"y\": [\"new\", \"jersey\", \"est\", \"jamais\", \"doux\", \"au\", \"printemps\", \"et\", \"il\", \"est\", \"agr\\u00e9able\", \"en\", \"avril\", \"eos\"], \"z\": [[0.04141926020383835, 0.04141926020383835, 0.04141926020383835, 0.04141926020383835, 0.04141926020383835, 0.04141926020383835, 0.04141926020383835, 0.04141926020383835, 0.04141926020383835, 0.04141966253519058, 0.04190005734562874, 0.0415923111140728, 0.06460245698690414, 0.04930783808231354, 0.04608241841197014, 0.04505861550569534, 0.04245023429393768, 0.04179944470524788, 0.04226531833410263, 0.042566630989313126, 0.04259069636464119, 0.04273297265172005, 0.0428580641746521], [0.04142655432224274, 0.04142654314637184, 0.04142653942108154, 0.04142662137746811, 0.04142660275101662, 0.04142662137746811, 0.041426558047533035, 0.04142671823501587, 0.041430264711380005, 0.04148836061358452, 0.041453808546066284, 0.04206901416182518, 0.057556767016649246, 0.05870964005589485, 0.04652852192521095, 0.04381026700139046, 0.042494043707847595, 0.041818324476480484, 0.04209976643323898, 0.0422099269926548, 0.04220348969101906, 0.04231102392077446, 0.042404044419527054], [0.04070832207798958, 0.04070829972624779, 0.04070828855037689, 0.040708430111408234, 0.04070901870727539, 0.04071005433797836, 0.04072720929980278, 0.040808986872434616, 0.0421895831823349, 0.10043000429868698, 0.04156635329127312, 0.040722161531448364, 0.04076717793941498, 0.0407133623957634, 0.04071385785937309, 0.04071395844221115, 0.0407281294465065, 0.04076334834098816, 0.04085030406713486, 0.040930766612291336, 0.04098392650485039, 0.04104698821902275, 0.041091449558734894], [0.041503481566905975, 0.04150346666574478, 0.04150346666574478, 0.041503891348838806, 0.041503969579935074, 0.041503775864839554, 0.04150528088212013, 0.04150541126728058, 0.041522931307554245, 0.04175792634487152, 0.04163557291030884, 0.041508883237838745, 0.04150630906224251, 0.04150410741567612, 0.041507549583911896, 0.04156886041164398, 0.04242590069770813, 0.04417801275849342, 0.046624522656202316, 0.04860449582338333, 0.049656640738248825, 0.05141982063651085, 0.05254568159580231], [0.04098459705710411, 0.04098457098007202, 0.040984537452459335, 0.04098541662096977, 0.040984828025102615, 0.04098453372716904, 0.04098539054393768, 0.040994901210069656, 0.041501499712467194, 0.0889912024140358, 0.043056290596723557, 0.041180677711963654, 0.0410001277923584, 0.040985625237226486, 0.040987540036439896, 0.04099782556295395, 0.041078291833400726, 0.04144618287682533, 0.04203042760491371, 0.042227696627378464, 0.042190391570329666, 0.04223214089870453, 0.042205389589071274], [0.04116450622677803, 0.041164517402648926, 0.04116460680961609, 0.041164591908454895, 0.04116467013955116, 0.04116441309452057, 0.041197847574949265, 0.042290616780519485, 0.06120876595377922, 0.07316779345273972, 0.0411730632185936, 0.041164375841617584, 0.041164375841617584, 0.04116438701748848, 0.04116440191864967, 0.04116440564393997, 0.041164375841617584, 0.04116441309452057, 0.0411645844578743, 0.041164711117744446, 0.04116480425000191, 0.04116487503051758, 0.04116490110754967], [0.040781110525131226, 0.04078110679984093, 0.04078110679984093, 0.04078110679984093, 0.04078109934926033, 0.04078109934926033, 0.04078157618641853, 0.04086028039455414, 0.04651106894016266, 0.09700481593608856, 0.040782440453767776, 0.04078110679984093, 0.04078109934926033, 0.04078109934926033, 0.04078109934926033, 0.04078109934926033, 0.04078109562397003, 0.04078109562397003, 0.04078109934926033, 0.04078109934926033, 0.04078109934926033, 0.04078109934926033, 0.04078109934926033], [0.041002631187438965, 0.04100186750292778, 0.041002120822668076, 0.04102637618780136, 0.04110964387655258, 0.04100993275642395, 0.04105690121650696, 0.04130224883556366, 0.043456029146909714, 0.0880206972360611, 0.04595339298248291, 0.04099951684474945, 0.041000448167324066, 0.04099808633327484, 0.041000716388225555, 0.04102253541350365, 0.04115764796733856, 0.04139605164527893, 0.04125933721661568, 0.04129783809185028, 0.04131026193499565, 0.041311465203762054, 0.04130421206355095], [0.04155564308166504, 0.041555605828762054, 0.04155557230114937, 0.04155563935637474, 0.04155603423714638, 0.04155595228075981, 0.04155631363391876, 0.04156253859400749, 0.04162433370947838, 0.041808631271123886, 0.04231923446059227, 0.042931459844112396, 0.050969332456588745, 0.041605185717344284, 0.04163390398025513, 0.04197801649570465, 0.04482534900307655, 0.046966224908828735, 0.0478491447865963, 0.04713001847267151, 0.0458470918238163, 0.04522224888205528, 0.04483649134635925], [0.04071243852376938, 0.04071243852376938, 0.04071243107318878, 0.04071243852376938, 0.040712445974349976, 0.04071244224905968, 0.04071245342493057, 0.04071255773305893, 0.04071653261780739, 0.04071887582540512, 0.04071629419922829, 0.041060078889131546, 0.10014761984348297, 0.04367570951581001, 0.04151368886232376, 0.04074347764253616, 0.04072660952806473, 0.040715623646974564, 0.040713414549827576, 0.04071321710944176, 0.0407131128013134, 0.040713053196668625, 0.04071302339434624], [0.04087872803211212, 0.04087872803211212, 0.04087868332862854, 0.040879592299461365, 0.04087909683585167, 0.04087871313095093, 0.040878776460886, 0.04087870195508003, 0.040879346430301666, 0.040895119309425354, 0.04091543331742287, 0.09335161745548248, 0.04476723074913025, 0.041620805859565735, 0.0414762906730175, 0.04132712632417679, 0.0415906086564064, 0.041119880974292755, 0.04099412262439728, 0.04099997878074646, 0.04100336879491806, 0.04101230949163437, 0.04101571440696716], [0.04083532467484474, 0.04083707928657532, 0.040835533291101456, 0.04083682969212532, 0.040834736078977585, 0.040833309292793274, 0.04084096848964691, 0.04083438217639923, 0.04083363711833954, 0.040833260864019394, 0.04083641991019249, 0.04086536541581154, 0.040903426706790924, 0.09482817351818085, 0.046900130808353424, 0.04145386815071106, 0.040852274745702744, 0.040835391730070114, 0.04083423316478729, 0.04083403944969177, 0.04083395004272461, 0.040833864361047745, 0.04083379730582237], [0.04121183231472969, 0.041213154792785645, 0.04121174290776253, 0.0412113182246685, 0.041212499141693115, 0.04120980203151703, 0.04121528938412666, 0.04121283441781998, 0.04121033474802971, 0.04120958223938942, 0.04122080281376839, 0.04120996221899986, 0.04135265573859215, 0.05363299325108528, 0.07483319938182831, 0.04702085629105568, 0.04130903631448746, 0.04122031480073929, 0.04122094064950943, 0.04121769219636917, 0.0412154383957386, 0.04121417924761772, 0.041213538497686386], [0.0412641204893589, 0.041264940053224564, 0.041264574974775314, 0.04127306118607521, 0.04130580276250839, 0.04126964136958122, 0.04126739501953125, 0.041267212480306625, 0.04126516729593277, 0.04126332327723503, 0.04128025099635124, 0.04126443341374397, 0.0429580882191658, 0.06991644203662872, 0.05792027711868286, 0.04399881511926651, 0.04194514453411102, 0.04143957793712616, 0.041351862251758575, 0.0413193553686142, 0.04130692034959793, 0.04129903018474579, 0.04129460081458092]]}],\n",
              "                        {\"plot_bgcolor\": \"black\", \"template\": {\"data\": {\"bar\": [{\"error_x\": {\"color\": \"#2a3f5f\"}, \"error_y\": {\"color\": \"#2a3f5f\"}, \"marker\": {\"line\": {\"color\": \"#E5ECF6\", \"width\": 0.5}}, \"type\": \"bar\"}], \"barpolar\": [{\"marker\": {\"line\": {\"color\": \"#E5ECF6\", \"width\": 0.5}}, \"type\": \"barpolar\"}], \"carpet\": [{\"aaxis\": {\"endlinecolor\": \"#2a3f5f\", \"gridcolor\": \"white\", \"linecolor\": \"white\", \"minorgridcolor\": \"white\", \"startlinecolor\": \"#2a3f5f\"}, \"baxis\": {\"endlinecolor\": \"#2a3f5f\", \"gridcolor\": \"white\", \"linecolor\": \"white\", \"minorgridcolor\": \"white\", \"startlinecolor\": \"#2a3f5f\"}, \"type\": \"carpet\"}], \"choropleth\": [{\"colorbar\": {\"outlinewidth\": 0, \"ticks\": \"\"}, \"type\": \"choropleth\"}], \"contour\": [{\"colorbar\": {\"outlinewidth\": 0, \"ticks\": \"\"}, \"colorscale\": [[0.0, \"#0d0887\"], [0.1111111111111111, \"#46039f\"], [0.2222222222222222, \"#7201a8\"], [0.3333333333333333, \"#9c179e\"], [0.4444444444444444, \"#bd3786\"], [0.5555555555555556, \"#d8576b\"], [0.6666666666666666, \"#ed7953\"], [0.7777777777777778, \"#fb9f3a\"], [0.8888888888888888, \"#fdca26\"], [1.0, \"#f0f921\"]], \"type\": \"contour\"}], \"contourcarpet\": [{\"colorbar\": {\"outlinewidth\": 0, \"ticks\": \"\"}, \"type\": \"contourcarpet\"}], \"heatmap\": [{\"colorbar\": {\"outlinewidth\": 0, \"ticks\": \"\"}, \"colorscale\": [[0.0, \"#0d0887\"], [0.1111111111111111, \"#46039f\"], [0.2222222222222222, \"#7201a8\"], [0.3333333333333333, \"#9c179e\"], [0.4444444444444444, \"#bd3786\"], [0.5555555555555556, \"#d8576b\"], [0.6666666666666666, \"#ed7953\"], [0.7777777777777778, \"#fb9f3a\"], [0.8888888888888888, \"#fdca26\"], [1.0, \"#f0f921\"]], \"type\": \"heatmap\"}], \"heatmapgl\": [{\"colorbar\": {\"outlinewidth\": 0, \"ticks\": \"\"}, \"colorscale\": [[0.0, \"#0d0887\"], [0.1111111111111111, \"#46039f\"], [0.2222222222222222, \"#7201a8\"], [0.3333333333333333, \"#9c179e\"], [0.4444444444444444, \"#bd3786\"], [0.5555555555555556, \"#d8576b\"], [0.6666666666666666, \"#ed7953\"], [0.7777777777777778, \"#fb9f3a\"], [0.8888888888888888, \"#fdca26\"], [1.0, \"#f0f921\"]], \"type\": \"heatmapgl\"}], \"histogram\": [{\"marker\": {\"colorbar\": {\"outlinewidth\": 0, \"ticks\": \"\"}}, \"type\": \"histogram\"}], \"histogram2d\": [{\"colorbar\": {\"outlinewidth\": 0, \"ticks\": \"\"}, \"colorscale\": [[0.0, \"#0d0887\"], [0.1111111111111111, \"#46039f\"], [0.2222222222222222, \"#7201a8\"], [0.3333333333333333, \"#9c179e\"], [0.4444444444444444, \"#bd3786\"], [0.5555555555555556, \"#d8576b\"], [0.6666666666666666, \"#ed7953\"], [0.7777777777777778, \"#fb9f3a\"], [0.8888888888888888, \"#fdca26\"], [1.0, \"#f0f921\"]], \"type\": \"histogram2d\"}], \"histogram2dcontour\": [{\"colorbar\": {\"outlinewidth\": 0, \"ticks\": \"\"}, \"colorscale\": [[0.0, \"#0d0887\"], [0.1111111111111111, \"#46039f\"], [0.2222222222222222, \"#7201a8\"], [0.3333333333333333, \"#9c179e\"], [0.4444444444444444, \"#bd3786\"], [0.5555555555555556, \"#d8576b\"], [0.6666666666666666, \"#ed7953\"], [0.7777777777777778, \"#fb9f3a\"], [0.8888888888888888, \"#fdca26\"], [1.0, \"#f0f921\"]], \"type\": \"histogram2dcontour\"}], \"mesh3d\": [{\"colorbar\": {\"outlinewidth\": 0, \"ticks\": \"\"}, \"type\": \"mesh3d\"}], \"parcoords\": [{\"line\": {\"colorbar\": {\"outlinewidth\": 0, \"ticks\": \"\"}}, \"type\": \"parcoords\"}], \"pie\": [{\"automargin\": true, \"type\": \"pie\"}], \"scatter\": [{\"marker\": {\"colorbar\": {\"outlinewidth\": 0, \"ticks\": \"\"}}, \"type\": \"scatter\"}], \"scatter3d\": [{\"line\": {\"colorbar\": {\"outlinewidth\": 0, \"ticks\": \"\"}}, \"marker\": {\"colorbar\": {\"outlinewidth\": 0, \"ticks\": \"\"}}, \"type\": \"scatter3d\"}], \"scattercarpet\": [{\"marker\": {\"colorbar\": {\"outlinewidth\": 0, \"ticks\": \"\"}}, \"type\": \"scattercarpet\"}], \"scattergeo\": [{\"marker\": {\"colorbar\": {\"outlinewidth\": 0, \"ticks\": \"\"}}, \"type\": \"scattergeo\"}], \"scattergl\": [{\"marker\": {\"colorbar\": {\"outlinewidth\": 0, \"ticks\": \"\"}}, \"type\": \"scattergl\"}], \"scattermapbox\": [{\"marker\": {\"colorbar\": {\"outlinewidth\": 0, \"ticks\": \"\"}}, \"type\": \"scattermapbox\"}], \"scatterpolar\": [{\"marker\": {\"colorbar\": {\"outlinewidth\": 0, \"ticks\": \"\"}}, \"type\": \"scatterpolar\"}], \"scatterpolargl\": [{\"marker\": {\"colorbar\": {\"outlinewidth\": 0, \"ticks\": \"\"}}, \"type\": \"scatterpolargl\"}], \"scatterternary\": [{\"marker\": {\"colorbar\": {\"outlinewidth\": 0, \"ticks\": \"\"}}, \"type\": \"scatterternary\"}], \"surface\": [{\"colorbar\": {\"outlinewidth\": 0, \"ticks\": \"\"}, \"colorscale\": [[0.0, \"#0d0887\"], [0.1111111111111111, \"#46039f\"], [0.2222222222222222, \"#7201a8\"], [0.3333333333333333, \"#9c179e\"], [0.4444444444444444, \"#bd3786\"], [0.5555555555555556, \"#d8576b\"], [0.6666666666666666, \"#ed7953\"], [0.7777777777777778, \"#fb9f3a\"], [0.8888888888888888, \"#fdca26\"], [1.0, \"#f0f921\"]], \"type\": \"surface\"}], \"table\": [{\"cells\": {\"fill\": {\"color\": \"#EBF0F8\"}, \"line\": {\"color\": \"white\"}}, \"header\": {\"fill\": {\"color\": \"#C8D4E3\"}, \"line\": {\"color\": \"white\"}}, \"type\": \"table\"}]}, \"layout\": {\"annotationdefaults\": {\"arrowcolor\": \"#2a3f5f\", \"arrowhead\": 0, \"arrowwidth\": 1}, \"coloraxis\": {\"colorbar\": {\"outlinewidth\": 0, \"ticks\": \"\"}}, \"colorscale\": {\"diverging\": [[0, \"#8e0152\"], [0.1, \"#c51b7d\"], [0.2, \"#de77ae\"], [0.3, \"#f1b6da\"], [0.4, \"#fde0ef\"], [0.5, \"#f7f7f7\"], [0.6, \"#e6f5d0\"], [0.7, \"#b8e186\"], [0.8, \"#7fbc41\"], [0.9, \"#4d9221\"], [1, \"#276419\"]], \"sequential\": [[0.0, \"#0d0887\"], [0.1111111111111111, \"#46039f\"], [0.2222222222222222, \"#7201a8\"], [0.3333333333333333, \"#9c179e\"], [0.4444444444444444, \"#bd3786\"], [0.5555555555555556, \"#d8576b\"], [0.6666666666666666, \"#ed7953\"], [0.7777777777777778, \"#fb9f3a\"], [0.8888888888888888, \"#fdca26\"], [1.0, \"#f0f921\"]], \"sequentialminus\": [[0.0, \"#0d0887\"], [0.1111111111111111, \"#46039f\"], [0.2222222222222222, \"#7201a8\"], [0.3333333333333333, \"#9c179e\"], [0.4444444444444444, \"#bd3786\"], [0.5555555555555556, \"#d8576b\"], [0.6666666666666666, \"#ed7953\"], [0.7777777777777778, \"#fb9f3a\"], [0.8888888888888888, \"#fdca26\"], [1.0, \"#f0f921\"]]}, \"colorway\": [\"#636efa\", \"#EF553B\", \"#00cc96\", \"#ab63fa\", \"#FFA15A\", \"#19d3f3\", \"#FF6692\", \"#B6E880\", \"#FF97FF\", \"#FECB52\"], \"font\": {\"color\": \"#2a3f5f\"}, \"geo\": {\"bgcolor\": \"white\", \"lakecolor\": \"white\", \"landcolor\": \"#E5ECF6\", \"showlakes\": true, \"showland\": true, \"subunitcolor\": \"white\"}, \"hoverlabel\": {\"align\": \"left\"}, \"hovermode\": \"closest\", \"mapbox\": {\"style\": \"light\"}, \"paper_bgcolor\": \"white\", \"plot_bgcolor\": \"#E5ECF6\", \"polar\": {\"angularaxis\": {\"gridcolor\": \"white\", \"linecolor\": \"white\", \"ticks\": \"\"}, \"bgcolor\": \"#E5ECF6\", \"radialaxis\": {\"gridcolor\": \"white\", \"linecolor\": \"white\", \"ticks\": \"\"}}, \"scene\": {\"xaxis\": {\"backgroundcolor\": \"#E5ECF6\", \"gridcolor\": \"white\", \"gridwidth\": 2, \"linecolor\": \"white\", \"showbackground\": true, \"ticks\": \"\", \"zerolinecolor\": \"white\"}, \"yaxis\": {\"backgroundcolor\": \"#E5ECF6\", \"gridcolor\": \"white\", \"gridwidth\": 2, \"linecolor\": \"white\", \"showbackground\": true, \"ticks\": \"\", \"zerolinecolor\": \"white\"}, \"zaxis\": {\"backgroundcolor\": \"#E5ECF6\", \"gridcolor\": \"white\", \"gridwidth\": 2, \"linecolor\": \"white\", \"showbackground\": true, \"ticks\": \"\", \"zerolinecolor\": \"white\"}}, \"shapedefaults\": {\"line\": {\"color\": \"#2a3f5f\"}}, \"ternary\": {\"aaxis\": {\"gridcolor\": \"white\", \"linecolor\": \"white\", \"ticks\": \"\"}, \"baxis\": {\"gridcolor\": \"white\", \"linecolor\": \"white\", \"ticks\": \"\"}, \"bgcolor\": \"#E5ECF6\", \"caxis\": {\"gridcolor\": \"white\", \"linecolor\": \"white\", \"ticks\": \"\"}}, \"title\": {\"x\": 0.05}, \"xaxis\": {\"automargin\": true, \"gridcolor\": \"white\", \"linecolor\": \"white\", \"ticks\": \"\", \"title\": {\"standoff\": 15}, \"zerolinecolor\": \"white\", \"zerolinewidth\": 2}, \"yaxis\": {\"automargin\": true, \"gridcolor\": \"white\", \"linecolor\": \"white\", \"ticks\": \"\", \"title\": {\"standoff\": 15}, \"zerolinecolor\": \"white\", \"zerolinewidth\": 2}}}},\n",
              "                        {\"responsive\": true}\n",
              "                    ).then(function(){\n",
              "                            \n",
              "var gd = document.getElementById('c0d9c337-cdba-4657-bfe4-5033108a2b99');\n",
              "var x = new MutationObserver(function (mutations, observer) {{\n",
              "        var display = window.getComputedStyle(gd).display;\n",
              "        if (!display || display === 'none') {{\n",
              "            console.log([gd, 'removed!']);\n",
              "            Plotly.purge(gd);\n",
              "            observer.disconnect();\n",
              "        }}\n",
              "}});\n",
              "\n",
              "// Listen for the removal of the full notebook cells\n",
              "var notebookContainer = gd.closest('#notebook-container');\n",
              "if (notebookContainer) {{\n",
              "    x.observe(notebookContainer, {childList: true});\n",
              "}}\n",
              "\n",
              "// Listen for the clearing of the current output cell\n",
              "var outputEl = gd.closest('.output');\n",
              "if (outputEl) {{\n",
              "    x.observe(outputEl, {childList: true});\n",
              "}}\n",
              "\n",
              "                        })\n",
              "                };\n",
              "                });\n",
              "            </script>\n",
              "        </div>"
            ],
            "application/vnd.plotly.v1+json": {
              "data": [
                {
                  "y": [
                    "new",
                    "jersey",
                    "est",
                    "jamais",
                    "doux",
                    "au",
                    "printemps",
                    "et",
                    "il",
                    "est",
                    "agréable",
                    "en",
                    "avril",
                    "eos"
                  ],
                  "x": [
                    "new",
                    "jersey",
                    "is",
                    "never",
                    "mild",
                    "during",
                    "spring",
                    "and",
                    "it",
                    "is",
                    "pleasant",
                    "in",
                    "april",
                    "eos",
                    " <pad>",
                    " <pad>",
                    " <pad>",
                    " <pad>",
                    " <pad>",
                    " <pad>",
                    " <pad>",
                    " <pad>",
                    " <pad>"
                  ],
                  "z": [
                    [
                      0.04141926020383835,
                      0.04141926020383835,
                      0.04141926020383835,
                      0.04141926020383835,
                      0.04141926020383835,
                      0.04141926020383835,
                      0.04141926020383835,
                      0.04141926020383835,
                      0.04141926020383835,
                      0.04141966253519058,
                      0.04190005734562874,
                      0.0415923111140728,
                      0.06460245698690414,
                      0.04930783808231354,
                      0.04608241841197014,
                      0.04505861550569534,
                      0.04245023429393768,
                      0.04179944470524788,
                      0.04226531833410263,
                      0.042566630989313126,
                      0.04259069636464119,
                      0.04273297265172005,
                      0.0428580641746521
                    ],
                    [
                      0.04142655432224274,
                      0.04142654314637184,
                      0.04142653942108154,
                      0.04142662137746811,
                      0.04142660275101662,
                      0.04142662137746811,
                      0.041426558047533035,
                      0.04142671823501587,
                      0.041430264711380005,
                      0.04148836061358452,
                      0.041453808546066284,
                      0.04206901416182518,
                      0.057556767016649246,
                      0.05870964005589485,
                      0.04652852192521095,
                      0.04381026700139046,
                      0.042494043707847595,
                      0.041818324476480484,
                      0.04209976643323898,
                      0.0422099269926548,
                      0.04220348969101906,
                      0.04231102392077446,
                      0.042404044419527054
                    ],
                    [
                      0.04070832207798958,
                      0.04070829972624779,
                      0.04070828855037689,
                      0.040708430111408234,
                      0.04070901870727539,
                      0.04071005433797836,
                      0.04072720929980278,
                      0.040808986872434616,
                      0.0421895831823349,
                      0.10043000429868698,
                      0.04156635329127312,
                      0.040722161531448364,
                      0.04076717793941498,
                      0.0407133623957634,
                      0.04071385785937309,
                      0.04071395844221115,
                      0.0407281294465065,
                      0.04076334834098816,
                      0.04085030406713486,
                      0.040930766612291336,
                      0.04098392650485039,
                      0.04104698821902275,
                      0.041091449558734894
                    ],
                    [
                      0.041503481566905975,
                      0.04150346666574478,
                      0.04150346666574478,
                      0.041503891348838806,
                      0.041503969579935074,
                      0.041503775864839554,
                      0.04150528088212013,
                      0.04150541126728058,
                      0.041522931307554245,
                      0.04175792634487152,
                      0.04163557291030884,
                      0.041508883237838745,
                      0.04150630906224251,
                      0.04150410741567612,
                      0.041507549583911896,
                      0.04156886041164398,
                      0.04242590069770813,
                      0.04417801275849342,
                      0.046624522656202316,
                      0.04860449582338333,
                      0.049656640738248825,
                      0.05141982063651085,
                      0.05254568159580231
                    ],
                    [
                      0.04098459705710411,
                      0.04098457098007202,
                      0.040984537452459335,
                      0.04098541662096977,
                      0.040984828025102615,
                      0.04098453372716904,
                      0.04098539054393768,
                      0.040994901210069656,
                      0.041501499712467194,
                      0.0889912024140358,
                      0.043056290596723557,
                      0.041180677711963654,
                      0.0410001277923584,
                      0.040985625237226486,
                      0.040987540036439896,
                      0.04099782556295395,
                      0.041078291833400726,
                      0.04144618287682533,
                      0.04203042760491371,
                      0.042227696627378464,
                      0.042190391570329666,
                      0.04223214089870453,
                      0.042205389589071274
                    ],
                    [
                      0.04116450622677803,
                      0.041164517402648926,
                      0.04116460680961609,
                      0.041164591908454895,
                      0.04116467013955116,
                      0.04116441309452057,
                      0.041197847574949265,
                      0.042290616780519485,
                      0.06120876595377922,
                      0.07316779345273972,
                      0.0411730632185936,
                      0.041164375841617584,
                      0.041164375841617584,
                      0.04116438701748848,
                      0.04116440191864967,
                      0.04116440564393997,
                      0.041164375841617584,
                      0.04116441309452057,
                      0.0411645844578743,
                      0.041164711117744446,
                      0.04116480425000191,
                      0.04116487503051758,
                      0.04116490110754967
                    ],
                    [
                      0.040781110525131226,
                      0.04078110679984093,
                      0.04078110679984093,
                      0.04078110679984093,
                      0.04078109934926033,
                      0.04078109934926033,
                      0.04078157618641853,
                      0.04086028039455414,
                      0.04651106894016266,
                      0.09700481593608856,
                      0.040782440453767776,
                      0.04078110679984093,
                      0.04078109934926033,
                      0.04078109934926033,
                      0.04078109934926033,
                      0.04078109934926033,
                      0.04078109562397003,
                      0.04078109562397003,
                      0.04078109934926033,
                      0.04078109934926033,
                      0.04078109934926033,
                      0.04078109934926033,
                      0.04078109934926033
                    ],
                    [
                      0.041002631187438965,
                      0.04100186750292778,
                      0.041002120822668076,
                      0.04102637618780136,
                      0.04110964387655258,
                      0.04100993275642395,
                      0.04105690121650696,
                      0.04130224883556366,
                      0.043456029146909714,
                      0.0880206972360611,
                      0.04595339298248291,
                      0.04099951684474945,
                      0.041000448167324066,
                      0.04099808633327484,
                      0.041000716388225555,
                      0.04102253541350365,
                      0.04115764796733856,
                      0.04139605164527893,
                      0.04125933721661568,
                      0.04129783809185028,
                      0.04131026193499565,
                      0.041311465203762054,
                      0.04130421206355095
                    ],
                    [
                      0.04155564308166504,
                      0.041555605828762054,
                      0.04155557230114937,
                      0.04155563935637474,
                      0.04155603423714638,
                      0.04155595228075981,
                      0.04155631363391876,
                      0.04156253859400749,
                      0.04162433370947838,
                      0.041808631271123886,
                      0.04231923446059227,
                      0.042931459844112396,
                      0.050969332456588745,
                      0.041605185717344284,
                      0.04163390398025513,
                      0.04197801649570465,
                      0.04482534900307655,
                      0.046966224908828735,
                      0.0478491447865963,
                      0.04713001847267151,
                      0.0458470918238163,
                      0.04522224888205528,
                      0.04483649134635925
                    ],
                    [
                      0.04071243852376938,
                      0.04071243852376938,
                      0.04071243107318878,
                      0.04071243852376938,
                      0.040712445974349976,
                      0.04071244224905968,
                      0.04071245342493057,
                      0.04071255773305893,
                      0.04071653261780739,
                      0.04071887582540512,
                      0.04071629419922829,
                      0.041060078889131546,
                      0.10014761984348297,
                      0.04367570951581001,
                      0.04151368886232376,
                      0.04074347764253616,
                      0.04072660952806473,
                      0.040715623646974564,
                      0.040713414549827576,
                      0.04071321710944176,
                      0.0407131128013134,
                      0.040713053196668625,
                      0.04071302339434624
                    ],
                    [
                      0.04087872803211212,
                      0.04087872803211212,
                      0.04087868332862854,
                      0.040879592299461365,
                      0.04087909683585167,
                      0.04087871313095093,
                      0.040878776460886,
                      0.04087870195508003,
                      0.040879346430301666,
                      0.040895119309425354,
                      0.04091543331742287,
                      0.09335161745548248,
                      0.04476723074913025,
                      0.041620805859565735,
                      0.0414762906730175,
                      0.04132712632417679,
                      0.0415906086564064,
                      0.041119880974292755,
                      0.04099412262439728,
                      0.04099997878074646,
                      0.04100336879491806,
                      0.04101230949163437,
                      0.04101571440696716
                    ],
                    [
                      0.04083532467484474,
                      0.04083707928657532,
                      0.040835533291101456,
                      0.04083682969212532,
                      0.040834736078977585,
                      0.040833309292793274,
                      0.04084096848964691,
                      0.04083438217639923,
                      0.04083363711833954,
                      0.040833260864019394,
                      0.04083641991019249,
                      0.04086536541581154,
                      0.040903426706790924,
                      0.09482817351818085,
                      0.046900130808353424,
                      0.04145386815071106,
                      0.040852274745702744,
                      0.040835391730070114,
                      0.04083423316478729,
                      0.04083403944969177,
                      0.04083395004272461,
                      0.040833864361047745,
                      0.04083379730582237
                    ],
                    [
                      0.04121183231472969,
                      0.041213154792785645,
                      0.04121174290776253,
                      0.0412113182246685,
                      0.041212499141693115,
                      0.04120980203151703,
                      0.04121528938412666,
                      0.04121283441781998,
                      0.04121033474802971,
                      0.04120958223938942,
                      0.04122080281376839,
                      0.04120996221899986,
                      0.04135265573859215,
                      0.05363299325108528,
                      0.07483319938182831,
                      0.04702085629105568,
                      0.04130903631448746,
                      0.04122031480073929,
                      0.04122094064950943,
                      0.04121769219636917,
                      0.0412154383957386,
                      0.04121417924761772,
                      0.041213538497686386
                    ],
                    [
                      0.0412641204893589,
                      0.041264940053224564,
                      0.041264574974775314,
                      0.04127306118607521,
                      0.04130580276250839,
                      0.04126964136958122,
                      0.04126739501953125,
                      0.041267212480306625,
                      0.04126516729593277,
                      0.04126332327723503,
                      0.04128025099635124,
                      0.04126443341374397,
                      0.0429580882191658,
                      0.06991644203662872,
                      0.05792027711868286,
                      0.04399881511926651,
                      0.04194514453411102,
                      0.04143957793712616,
                      0.041351862251758575,
                      0.0413193553686142,
                      0.04130692034959793,
                      0.04129903018474579,
                      0.04129460081458092
                    ]
                  ],
                  "type": "heatmap"
                }
              ],
              "config": {
                "plotlyServerURL": "https://plot.ly"
              },
              "layout": {
                "plot_bgcolor": "black",
                "template": {
                  "layout": {
                    "shapedefaults": {
                      "line": {
                        "color": "#2a3f5f"
                      }
                    },
                    "polar": {
                      "radialaxis": {
                        "ticks": "",
                        "gridcolor": "white",
                        "linecolor": "white"
                      },
                      "bgcolor": "#E5ECF6",
                      "angularaxis": {
                        "ticks": "",
                        "gridcolor": "white",
                        "linecolor": "white"
                      }
                    },
                    "colorway": [
                      "#636efa",
                      "#EF553B",
                      "#00cc96",
                      "#ab63fa",
                      "#FFA15A",
                      "#19d3f3",
                      "#FF6692",
                      "#B6E880",
                      "#FF97FF",
                      "#FECB52"
                    ],
                    "xaxis": {
                      "automargin": true,
                      "title": {
                        "standoff": 15
                      },
                      "zerolinewidth": 2,
                      "ticks": "",
                      "zerolinecolor": "white",
                      "gridcolor": "white",
                      "linecolor": "white"
                    },
                    "colorscale": {
                      "diverging": [
                        [
                          0,
                          "#8e0152"
                        ],
                        [
                          0.1,
                          "#c51b7d"
                        ],
                        [
                          0.2,
                          "#de77ae"
                        ],
                        [
                          0.3,
                          "#f1b6da"
                        ],
                        [
                          0.4,
                          "#fde0ef"
                        ],
                        [
                          0.5,
                          "#f7f7f7"
                        ],
                        [
                          0.6,
                          "#e6f5d0"
                        ],
                        [
                          0.7,
                          "#b8e186"
                        ],
                        [
                          0.8,
                          "#7fbc41"
                        ],
                        [
                          0.9,
                          "#4d9221"
                        ],
                        [
                          1,
                          "#276419"
                        ]
                      ],
                      "sequential": [
                        [
                          0,
                          "#0d0887"
                        ],
                        [
                          0.1111111111111111,
                          "#46039f"
                        ],
                        [
                          0.2222222222222222,
                          "#7201a8"
                        ],
                        [
                          0.3333333333333333,
                          "#9c179e"
                        ],
                        [
                          0.4444444444444444,
                          "#bd3786"
                        ],
                        [
                          0.5555555555555556,
                          "#d8576b"
                        ],
                        [
                          0.6666666666666666,
                          "#ed7953"
                        ],
                        [
                          0.7777777777777778,
                          "#fb9f3a"
                        ],
                        [
                          0.8888888888888888,
                          "#fdca26"
                        ],
                        [
                          1,
                          "#f0f921"
                        ]
                      ],
                      "sequentialminus": [
                        [
                          0,
                          "#0d0887"
                        ],
                        [
                          0.1111111111111111,
                          "#46039f"
                        ],
                        [
                          0.2222222222222222,
                          "#7201a8"
                        ],
                        [
                          0.3333333333333333,
                          "#9c179e"
                        ],
                        [
                          0.4444444444444444,
                          "#bd3786"
                        ],
                        [
                          0.5555555555555556,
                          "#d8576b"
                        ],
                        [
                          0.6666666666666666,
                          "#ed7953"
                        ],
                        [
                          0.7777777777777778,
                          "#fb9f3a"
                        ],
                        [
                          0.8888888888888888,
                          "#fdca26"
                        ],
                        [
                          1,
                          "#f0f921"
                        ]
                      ]
                    },
                    "paper_bgcolor": "white",
                    "plot_bgcolor": "#E5ECF6",
                    "title": {
                      "x": 0.05
                    },
                    "scene": {
                      "zaxis": {
                        "backgroundcolor": "#E5ECF6",
                        "ticks": "",
                        "gridwidth": 2,
                        "showbackground": true,
                        "zerolinecolor": "white",
                        "gridcolor": "white",
                        "linecolor": "white"
                      },
                      "xaxis": {
                        "backgroundcolor": "#E5ECF6",
                        "ticks": "",
                        "gridwidth": 2,
                        "showbackground": true,
                        "zerolinecolor": "white",
                        "gridcolor": "white",
                        "linecolor": "white"
                      },
                      "yaxis": {
                        "backgroundcolor": "#E5ECF6",
                        "ticks": "",
                        "gridwidth": 2,
                        "showbackground": true,
                        "zerolinecolor": "white",
                        "gridcolor": "white",
                        "linecolor": "white"
                      }
                    },
                    "yaxis": {
                      "automargin": true,
                      "title": {
                        "standoff": 15
                      },
                      "zerolinewidth": 2,
                      "ticks": "",
                      "zerolinecolor": "white",
                      "gridcolor": "white",
                      "linecolor": "white"
                    },
                    "annotationdefaults": {
                      "arrowwidth": 1,
                      "arrowhead": 0,
                      "arrowcolor": "#2a3f5f"
                    },
                    "hoverlabel": {
                      "align": "left"
                    },
                    "ternary": {
                      "bgcolor": "#E5ECF6",
                      "baxis": {
                        "ticks": "",
                        "gridcolor": "white",
                        "linecolor": "white"
                      },
                      "caxis": {
                        "ticks": "",
                        "gridcolor": "white",
                        "linecolor": "white"
                      },
                      "aaxis": {
                        "ticks": "",
                        "gridcolor": "white",
                        "linecolor": "white"
                      }
                    },
                    "mapbox": {
                      "style": "light"
                    },
                    "hovermode": "closest",
                    "font": {
                      "color": "#2a3f5f"
                    },
                    "geo": {
                      "showland": true,
                      "landcolor": "#E5ECF6",
                      "showlakes": true,
                      "bgcolor": "white",
                      "subunitcolor": "white",
                      "lakecolor": "white"
                    },
                    "coloraxis": {
                      "colorbar": {
                        "outlinewidth": 0,
                        "ticks": ""
                      }
                    }
                  },
                  "data": {
                    "mesh3d": [
                      {
                        "colorbar": {
                          "outlinewidth": 0,
                          "ticks": ""
                        },
                        "type": "mesh3d"
                      }
                    ],
                    "scattercarpet": [
                      {
                        "marker": {
                          "colorbar": {
                            "outlinewidth": 0,
                            "ticks": ""
                          }
                        },
                        "type": "scattercarpet"
                      }
                    ],
                    "pie": [
                      {
                        "automargin": true,
                        "type": "pie"
                      }
                    ],
                    "surface": [
                      {
                        "colorbar": {
                          "outlinewidth": 0,
                          "ticks": ""
                        },
                        "type": "surface",
                        "colorscale": [
                          [
                            0,
                            "#0d0887"
                          ],
                          [
                            0.1111111111111111,
                            "#46039f"
                          ],
                          [
                            0.2222222222222222,
                            "#7201a8"
                          ],
                          [
                            0.3333333333333333,
                            "#9c179e"
                          ],
                          [
                            0.4444444444444444,
                            "#bd3786"
                          ],
                          [
                            0.5555555555555556,
                            "#d8576b"
                          ],
                          [
                            0.6666666666666666,
                            "#ed7953"
                          ],
                          [
                            0.7777777777777778,
                            "#fb9f3a"
                          ],
                          [
                            0.8888888888888888,
                            "#fdca26"
                          ],
                          [
                            1,
                            "#f0f921"
                          ]
                        ]
                      }
                    ],
                    "table": [
                      {
                        "header": {
                          "line": {
                            "color": "white"
                          },
                          "fill": {
                            "color": "#C8D4E3"
                          }
                        },
                        "cells": {
                          "line": {
                            "color": "white"
                          },
                          "fill": {
                            "color": "#EBF0F8"
                          }
                        },
                        "type": "table"
                      }
                    ],
                    "scatterpolargl": [
                      {
                        "marker": {
                          "colorbar": {
                            "outlinewidth": 0,
                            "ticks": ""
                          }
                        },
                        "type": "scatterpolargl"
                      }
                    ],
                    "contour": [
                      {
                        "colorbar": {
                          "outlinewidth": 0,
                          "ticks": ""
                        },
                        "type": "contour",
                        "colorscale": [
                          [
                            0,
                            "#0d0887"
                          ],
                          [
                            0.1111111111111111,
                            "#46039f"
                          ],
                          [
                            0.2222222222222222,
                            "#7201a8"
                          ],
                          [
                            0.3333333333333333,
                            "#9c179e"
                          ],
                          [
                            0.4444444444444444,
                            "#bd3786"
                          ],
                          [
                            0.5555555555555556,
                            "#d8576b"
                          ],
                          [
                            0.6666666666666666,
                            "#ed7953"
                          ],
                          [
                            0.7777777777777778,
                            "#fb9f3a"
                          ],
                          [
                            0.8888888888888888,
                            "#fdca26"
                          ],
                          [
                            1,
                            "#f0f921"
                          ]
                        ]
                      }
                    ],
                    "carpet": [
                      {
                        "type": "carpet",
                        "baxis": {
                          "minorgridcolor": "white",
                          "gridcolor": "white",
                          "linecolor": "white",
                          "endlinecolor": "#2a3f5f",
                          "startlinecolor": "#2a3f5f"
                        },
                        "aaxis": {
                          "minorgridcolor": "white",
                          "gridcolor": "white",
                          "linecolor": "white",
                          "endlinecolor": "#2a3f5f",
                          "startlinecolor": "#2a3f5f"
                        }
                      }
                    ],
                    "contourcarpet": [
                      {
                        "colorbar": {
                          "outlinewidth": 0,
                          "ticks": ""
                        },
                        "type": "contourcarpet"
                      }
                    ],
                    "heatmap": [
                      {
                        "colorbar": {
                          "outlinewidth": 0,
                          "ticks": ""
                        },
                        "type": "heatmap",
                        "colorscale": [
                          [
                            0,
                            "#0d0887"
                          ],
                          [
                            0.1111111111111111,
                            "#46039f"
                          ],
                          [
                            0.2222222222222222,
                            "#7201a8"
                          ],
                          [
                            0.3333333333333333,
                            "#9c179e"
                          ],
                          [
                            0.4444444444444444,
                            "#bd3786"
                          ],
                          [
                            0.5555555555555556,
                            "#d8576b"
                          ],
                          [
                            0.6666666666666666,
                            "#ed7953"
                          ],
                          [
                            0.7777777777777778,
                            "#fb9f3a"
                          ],
                          [
                            0.8888888888888888,
                            "#fdca26"
                          ],
                          [
                            1,
                            "#f0f921"
                          ]
                        ]
                      }
                    ],
                    "scattermapbox": [
                      {
                        "marker": {
                          "colorbar": {
                            "outlinewidth": 0,
                            "ticks": ""
                          }
                        },
                        "type": "scattermapbox"
                      }
                    ],
                    "scatter3d": [
                      {
                        "marker": {
                          "colorbar": {
                            "outlinewidth": 0,
                            "ticks": ""
                          }
                        },
                        "line": {
                          "colorbar": {
                            "outlinewidth": 0,
                            "ticks": ""
                          }
                        },
                        "type": "scatter3d"
                      }
                    ],
                    "scattergl": [
                      {
                        "marker": {
                          "colorbar": {
                            "outlinewidth": 0,
                            "ticks": ""
                          }
                        },
                        "type": "scattergl"
                      }
                    ],
                    "scatterternary": [
                      {
                        "marker": {
                          "colorbar": {
                            "outlinewidth": 0,
                            "ticks": ""
                          }
                        },
                        "type": "scatterternary"
                      }
                    ],
                    "histogram": [
                      {
                        "marker": {
                          "colorbar": {
                            "outlinewidth": 0,
                            "ticks": ""
                          }
                        },
                        "type": "histogram"
                      }
                    ],
                    "heatmapgl": [
                      {
                        "colorbar": {
                          "outlinewidth": 0,
                          "ticks": ""
                        },
                        "type": "heatmapgl",
                        "colorscale": [
                          [
                            0,
                            "#0d0887"
                          ],
                          [
                            0.1111111111111111,
                            "#46039f"
                          ],
                          [
                            0.2222222222222222,
                            "#7201a8"
                          ],
                          [
                            0.3333333333333333,
                            "#9c179e"
                          ],
                          [
                            0.4444444444444444,
                            "#bd3786"
                          ],
                          [
                            0.5555555555555556,
                            "#d8576b"
                          ],
                          [
                            0.6666666666666666,
                            "#ed7953"
                          ],
                          [
                            0.7777777777777778,
                            "#fb9f3a"
                          ],
                          [
                            0.8888888888888888,
                            "#fdca26"
                          ],
                          [
                            1,
                            "#f0f921"
                          ]
                        ]
                      }
                    ],
                    "scatterpolar": [
                      {
                        "marker": {
                          "colorbar": {
                            "outlinewidth": 0,
                            "ticks": ""
                          }
                        },
                        "type": "scatterpolar"
                      }
                    ],
                    "histogram2d": [
                      {
                        "colorbar": {
                          "outlinewidth": 0,
                          "ticks": ""
                        },
                        "type": "histogram2d",
                        "colorscale": [
                          [
                            0,
                            "#0d0887"
                          ],
                          [
                            0.1111111111111111,
                            "#46039f"
                          ],
                          [
                            0.2222222222222222,
                            "#7201a8"
                          ],
                          [
                            0.3333333333333333,
                            "#9c179e"
                          ],
                          [
                            0.4444444444444444,
                            "#bd3786"
                          ],
                          [
                            0.5555555555555556,
                            "#d8576b"
                          ],
                          [
                            0.6666666666666666,
                            "#ed7953"
                          ],
                          [
                            0.7777777777777778,
                            "#fb9f3a"
                          ],
                          [
                            0.8888888888888888,
                            "#fdca26"
                          ],
                          [
                            1,
                            "#f0f921"
                          ]
                        ]
                      }
                    ],
                    "scattergeo": [
                      {
                        "marker": {
                          "colorbar": {
                            "outlinewidth": 0,
                            "ticks": ""
                          }
                        },
                        "type": "scattergeo"
                      }
                    ],
                    "bar": [
                      {
                        "marker": {
                          "line": {
                            "color": "#E5ECF6",
                            "width": 0.5
                          }
                        },
                        "type": "bar",
                        "error_x": {
                          "color": "#2a3f5f"
                        },
                        "error_y": {
                          "color": "#2a3f5f"
                        }
                      }
                    ],
                    "choropleth": [
                      {
                        "colorbar": {
                          "outlinewidth": 0,
                          "ticks": ""
                        },
                        "type": "choropleth"
                      }
                    ],
                    "parcoords": [
                      {
                        "line": {
                          "colorbar": {
                            "outlinewidth": 0,
                            "ticks": ""
                          }
                        },
                        "type": "parcoords"
                      }
                    ],
                    "barpolar": [
                      {
                        "marker": {
                          "line": {
                            "color": "#E5ECF6",
                            "width": 0.5
                          }
                        },
                        "type": "barpolar"
                      }
                    ],
                    "histogram2dcontour": [
                      {
                        "colorbar": {
                          "outlinewidth": 0,
                          "ticks": ""
                        },
                        "type": "histogram2dcontour",
                        "colorscale": [
                          [
                            0,
                            "#0d0887"
                          ],
                          [
                            0.1111111111111111,
                            "#46039f"
                          ],
                          [
                            0.2222222222222222,
                            "#7201a8"
                          ],
                          [
                            0.3333333333333333,
                            "#9c179e"
                          ],
                          [
                            0.4444444444444444,
                            "#bd3786"
                          ],
                          [
                            0.5555555555555556,
                            "#d8576b"
                          ],
                          [
                            0.6666666666666666,
                            "#ed7953"
                          ],
                          [
                            0.7777777777777778,
                            "#fb9f3a"
                          ],
                          [
                            0.8888888888888888,
                            "#fdca26"
                          ],
                          [
                            1,
                            "#f0f921"
                          ]
                        ]
                      }
                    ],
                    "scatter": [
                      {
                        "marker": {
                          "colorbar": {
                            "outlinewidth": 0,
                            "ticks": ""
                          }
                        },
                        "type": "scatter"
                      }
                    ]
                  }
                }
              }
            }
          },
          "metadata": {}
        }
      ]
    },
    {
      "cell_type": "code",
      "metadata": {
        "id": "qJmXcETmkE02"
      },
      "source": [
        ""
      ],
      "id": "qJmXcETmkE02",
      "execution_count": null,
      "outputs": []
    }
  ]
}